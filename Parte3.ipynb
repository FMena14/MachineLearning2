{
 "cells": [
  {
   "cell_type": "markdown",
   "metadata": {},
   "source": [
    "# Predecir Skill en LinkedIN"
   ]
  },
  {
   "cell_type": "markdown",
   "metadata": {},
   "source": [
    "Para esta sección se trabaja con un dataset que consta de las habilidades/capacidades/competencias (skill) declaradas por distintos usuarios en el sitio web LinkedIN, trabajando con una matriz dispersa (<i>sparse matrix</i>) debido a la gran cantidad de valores nulos (competencias no declaradas), esto agiliza los procesos de ajustar el modelo de cada clasificador."
   ]
  },
  {
   "cell_type": "code",
   "execution_count": 118,
   "metadata": {
    "collapsed": false
   },
   "outputs": [
    {
     "ename": "UnicodeDecodeError",
     "evalue": "'ascii' codec can't decode byte 0xc3 in position 593: ordinal not in range(128)",
     "output_type": "error",
     "traceback": [
      "\u001b[0;31m---------------------------------------------------------------------------\u001b[0m",
      "\u001b[0;31mUnicodeDecodeError\u001b[0m                        Traceback (most recent call last)",
      "\u001b[0;32m<ipython-input-118-e5a6dab9eb81>\u001b[0m in \u001b[0;36m<module>\u001b[0;34m()\u001b[0m\n\u001b[1;32m     30\u001b[0m \u001b[0mdt_userskill\u001b[0m \u001b[0;34m=\u001b[0m \u001b[0mcargar_archivo\u001b[0m\u001b[0;34m(\u001b[0m\u001b[0;34m'user_skill'\u001b[0m\u001b[0;34m)\u001b[0m\u001b[0;34m\u001b[0m\u001b[0m\n\u001b[1;32m     31\u001b[0m \u001b[0mn\u001b[0m \u001b[0;34m,\u001b[0m\u001b[0md\u001b[0m \u001b[0;34m=\u001b[0m \u001b[0mdt_userskill\u001b[0m\u001b[0;34m.\u001b[0m\u001b[0mshape\u001b[0m\u001b[0;34m\u001b[0m\u001b[0m\n\u001b[0;32m---> 32\u001b[0;31m \u001b[0mlista_skills\u001b[0m \u001b[0;34m=\u001b[0m  \u001b[0mcargar_skills\u001b[0m\u001b[0;34m(\u001b[0m\u001b[0;34m'skill_id'\u001b[0m\u001b[0;34m,\u001b[0m\u001b[0md\u001b[0m\u001b[0;34m)\u001b[0m\u001b[0;34m\u001b[0m\u001b[0m\n\u001b[0m\u001b[1;32m     33\u001b[0m \u001b[0;32mprint\u001b[0m \u001b[0mlista_skills\u001b[0m\u001b[0;34m\u001b[0m\u001b[0m\n\u001b[1;32m     34\u001b[0m \u001b[0;32mprint\u001b[0m \u001b[0mdt_userskill\u001b[0m\u001b[0;34m.\u001b[0m\u001b[0mshape\u001b[0m\u001b[0;34m\u001b[0m\u001b[0m\n",
      "\u001b[0;32m<ipython-input-118-e5a6dab9eb81>\u001b[0m in \u001b[0;36mcargar_skills\u001b[0;34m(arch, d)\u001b[0m\n\u001b[1;32m     22\u001b[0m     \u001b[0mskills\u001b[0m \u001b[0;34m=\u001b[0m \u001b[0;34m[\u001b[0m\u001b[0;34m'None'\u001b[0m \u001b[0;32mfor\u001b[0m \u001b[0mi\u001b[0m \u001b[0;32min\u001b[0m \u001b[0mrange\u001b[0m\u001b[0;34m(\u001b[0m\u001b[0md\u001b[0m\u001b[0;34m)\u001b[0m\u001b[0;34m]\u001b[0m\u001b[0;34m\u001b[0m\u001b[0m\n\u001b[1;32m     23\u001b[0m     \u001b[0mf\u001b[0m \u001b[0;34m=\u001b[0m \u001b[0mcodecs\u001b[0m\u001b[0;34m.\u001b[0m\u001b[0mopen\u001b[0m\u001b[0;34m(\u001b[0m\u001b[0march\u001b[0m\u001b[0;34m,\u001b[0m\u001b[0;34m'r'\u001b[0m\u001b[0;34m,\u001b[0m\u001b[0;34m'ASCII'\u001b[0m\u001b[0;34m)\u001b[0m\u001b[0;34m\u001b[0m\u001b[0m\n\u001b[0;32m---> 24\u001b[0;31m     \u001b[0mlines\u001b[0m\u001b[0;34m=\u001b[0m \u001b[0mf\u001b[0m\u001b[0;34m.\u001b[0m\u001b[0mreadlines\u001b[0m\u001b[0;34m(\u001b[0m\u001b[0;34m)\u001b[0m\u001b[0;34m\u001b[0m\u001b[0m\n\u001b[0m\u001b[1;32m     25\u001b[0m     \u001b[0mM\u001b[0m \u001b[0;34m=\u001b[0m \u001b[0;34m[\u001b[0m \u001b[0mre\u001b[0m\u001b[0;34m.\u001b[0m\u001b[0msplit\u001b[0m\u001b[0;34m(\u001b[0m\u001b[0;34m':(\\d+)'\u001b[0m\u001b[0;34m,\u001b[0m\u001b[0mline\u001b[0m\u001b[0;34m.\u001b[0m\u001b[0mstrip\u001b[0m\u001b[0;34m(\u001b[0m\u001b[0;34m'\\n'\u001b[0m\u001b[0;34m)\u001b[0m\u001b[0;34m)\u001b[0m \u001b[0;32mfor\u001b[0m \u001b[0mline\u001b[0m \u001b[0;32min\u001b[0m \u001b[0mlines\u001b[0m\u001b[0;34m]\u001b[0m\u001b[0;34m\u001b[0m\u001b[0m\n\u001b[1;32m     26\u001b[0m     \u001b[0;32mfor\u001b[0m \u001b[0mdatos_skill\u001b[0m \u001b[0;32min\u001b[0m \u001b[0mM\u001b[0m\u001b[0;34m:\u001b[0m\u001b[0;34m\u001b[0m\u001b[0m\n",
      "\u001b[0;32m/usr/lib/python2.7/codecs.pyc\u001b[0m in \u001b[0;36mreadlines\u001b[0;34m(self, sizehint)\u001b[0m\n\u001b[1;32m    680\u001b[0m     \u001b[0;32mdef\u001b[0m \u001b[0mreadlines\u001b[0m\u001b[0;34m(\u001b[0m\u001b[0mself\u001b[0m\u001b[0;34m,\u001b[0m \u001b[0msizehint\u001b[0m\u001b[0;34m=\u001b[0m\u001b[0mNone\u001b[0m\u001b[0;34m)\u001b[0m\u001b[0;34m:\u001b[0m\u001b[0;34m\u001b[0m\u001b[0m\n\u001b[1;32m    681\u001b[0m \u001b[0;34m\u001b[0m\u001b[0m\n\u001b[0;32m--> 682\u001b[0;31m         \u001b[0;32mreturn\u001b[0m \u001b[0mself\u001b[0m\u001b[0;34m.\u001b[0m\u001b[0mreader\u001b[0m\u001b[0;34m.\u001b[0m\u001b[0mreadlines\u001b[0m\u001b[0;34m(\u001b[0m\u001b[0msizehint\u001b[0m\u001b[0;34m)\u001b[0m\u001b[0;34m\u001b[0m\u001b[0m\n\u001b[0m\u001b[1;32m    683\u001b[0m \u001b[0;34m\u001b[0m\u001b[0m\n\u001b[1;32m    684\u001b[0m     \u001b[0;32mdef\u001b[0m \u001b[0mnext\u001b[0m\u001b[0;34m(\u001b[0m\u001b[0mself\u001b[0m\u001b[0;34m)\u001b[0m\u001b[0;34m:\u001b[0m\u001b[0;34m\u001b[0m\u001b[0m\n",
      "\u001b[0;32m/usr/lib/python2.7/codecs.pyc\u001b[0m in \u001b[0;36mreadlines\u001b[0;34m(self, sizehint, keepends)\u001b[0m\n\u001b[1;32m    589\u001b[0m \u001b[0;34m\u001b[0m\u001b[0m\n\u001b[1;32m    590\u001b[0m         \"\"\"\n\u001b[0;32m--> 591\u001b[0;31m         \u001b[0mdata\u001b[0m \u001b[0;34m=\u001b[0m \u001b[0mself\u001b[0m\u001b[0;34m.\u001b[0m\u001b[0mread\u001b[0m\u001b[0;34m(\u001b[0m\u001b[0;34m)\u001b[0m\u001b[0;34m\u001b[0m\u001b[0m\n\u001b[0m\u001b[1;32m    592\u001b[0m         \u001b[0;32mreturn\u001b[0m \u001b[0mdata\u001b[0m\u001b[0;34m.\u001b[0m\u001b[0msplitlines\u001b[0m\u001b[0;34m(\u001b[0m\u001b[0mkeepends\u001b[0m\u001b[0;34m)\u001b[0m\u001b[0;34m\u001b[0m\u001b[0m\n\u001b[1;32m    593\u001b[0m \u001b[0;34m\u001b[0m\u001b[0m\n",
      "\u001b[0;32m/usr/lib/python2.7/codecs.pyc\u001b[0m in \u001b[0;36mread\u001b[0;34m(self, size, chars, firstline)\u001b[0m\n\u001b[1;32m    478\u001b[0m             \u001b[0mdata\u001b[0m \u001b[0;34m=\u001b[0m \u001b[0mself\u001b[0m\u001b[0;34m.\u001b[0m\u001b[0mbytebuffer\u001b[0m \u001b[0;34m+\u001b[0m \u001b[0mnewdata\u001b[0m\u001b[0;34m\u001b[0m\u001b[0m\n\u001b[1;32m    479\u001b[0m             \u001b[0;32mtry\u001b[0m\u001b[0;34m:\u001b[0m\u001b[0;34m\u001b[0m\u001b[0m\n\u001b[0;32m--> 480\u001b[0;31m                 \u001b[0mnewchars\u001b[0m\u001b[0;34m,\u001b[0m \u001b[0mdecodedbytes\u001b[0m \u001b[0;34m=\u001b[0m \u001b[0mself\u001b[0m\u001b[0;34m.\u001b[0m\u001b[0mdecode\u001b[0m\u001b[0;34m(\u001b[0m\u001b[0mdata\u001b[0m\u001b[0;34m,\u001b[0m \u001b[0mself\u001b[0m\u001b[0;34m.\u001b[0m\u001b[0merrors\u001b[0m\u001b[0;34m)\u001b[0m\u001b[0;34m\u001b[0m\u001b[0m\n\u001b[0m\u001b[1;32m    481\u001b[0m             \u001b[0;32mexcept\u001b[0m \u001b[0mUnicodeDecodeError\u001b[0m\u001b[0;34m,\u001b[0m \u001b[0mexc\u001b[0m\u001b[0;34m:\u001b[0m\u001b[0;34m\u001b[0m\u001b[0m\n\u001b[1;32m    482\u001b[0m                 \u001b[0;32mif\u001b[0m \u001b[0mfirstline\u001b[0m\u001b[0;34m:\u001b[0m\u001b[0;34m\u001b[0m\u001b[0m\n",
      "\u001b[0;31mUnicodeDecodeError\u001b[0m: 'ascii' codec can't decode byte 0xc3 in position 593: ordinal not in range(128)"
     ]
    }
   ],
   "source": [
    "import pandas as pd\n",
    "import numpy as np\n",
    "from scipy.sparse import csr_matrix\n",
    "from scipy.io import mmread\n",
    "\n",
    "def cargar_archivo(arch):\n",
    "    f = open(arch,'r')\n",
    "    lines= f.readlines()\n",
    "    M = [ line.replace(\":\",',').replace(\"\\n\",\"\").split(',') for line in lines]\n",
    "    \n",
    "    lista_sparse = []\n",
    "    for usuario in M:\n",
    "        user_id = usuario.pop(0)\n",
    "        for skill in usuario:\n",
    "            lista_sparse.append([int(user_id),int(skill),1])\n",
    "            \n",
    "    rows,cols,data = zip(*lista_sparse)\n",
    "    return csr_matrix((data, (rows, cols)))\n",
    "\n",
    "import re,codecs\n",
    "def cargar_skills(arch,d):\n",
    "    skills = ['None' for i in range(d)]  \n",
    "    f = codecs.open(arch,'r','ASCII')\n",
    "    lines= f.readlines()\n",
    "    M = [ re.split(':(\\d+)',line.strip('\\n')) for line in lines]\n",
    "    for datos_skill in M:\n",
    "        skills[int(datos_skill[1])] = datos_skill[0]\n",
    "    return skills\n",
    "\n",
    "dt_userskill = cargar_archivo('user_skill')\n",
    "n ,d = dt_userskill.shape \n",
    "lista_skills =  cargar_skills('skill_id',d)\n",
    "print lista_skills\n",
    "print dt_userskill.shape"
   ]
  },
  {
   "cell_type": "markdown",
   "metadata": {},
   "source": [
    "En el código anterior se carga el archivo donde estan presentes los datos y se convierten en una matriz $sparse$ (dispersa), en la cual las filas representan a los usuarios y las columnas a las <i>skill</i> de cada usuario correspondiente, llenando los valores de la matriz con 0 o 1, si declara o no competencia. Por ejemplo si el usuario $i$ declara la competencia $j$ habrá un 1 en la posición ($i$,$j$) en la matriz <i>dt_userskill</i>"
   ]
  },
  {
   "cell_type": "code",
   "execution_count": 79,
   "metadata": {
    "collapsed": false
   },
   "outputs": [],
   "source": [
    "n = 7890 #number of users\n",
    "d = 14544 #number of skills\n",
    "\n",
    "#from random import randint\n",
    "#print randint(10,50) #porciento de test set = 34 %\n",
    "index = np.arange(np.shape(dt_userskill)[0]) #filas \n",
    "np.random.shuffle(index) #permutan las filas\n",
    "Z = dt_userskill[index, :] #matriz permutada\n",
    "\n",
    "l =  int(7890*.34)\n",
    "Z_tr = Z[:l,] #Datos de entrenamiento (76%)\n",
    "Z_ts = Z[l:,] #Datos de prueba (34%)"
   ]
  },
  {
   "cell_type": "markdown",
   "metadata": {},
   "source": [
    "En la celda anterior se crean, a partir del dataset original <i>Z</i>, dos dataset, uno de prueba y otro de entrenamiento ($Z_{ts}$ y $Z_{tr}$ respectivamente)."
   ]
  },
  {
   "cell_type": "code",
   "execution_count": 91,
   "metadata": {
    "collapsed": false
   },
   "outputs": [],
   "source": [
    "users_skill = np.zeros(d)\n",
    "for i in range(d): #every skill\n",
    "    users_skill[i] = dt_userskill.getcol(i).getnnz()"
   ]
  },
  {
   "cell_type": "code",
   "execution_count": 114,
   "metadata": {
    "collapsed": false
   },
   "outputs": [
    {
     "name": "stdout",
     "output_type": "stream",
     "text": [
      "[1594.0, 2109.0, 1049.0, 1504.0, 1287.0, 1146.0, 1087.0, 3081.0, 2761.0, 1647.0, 1264.0, 1424.0, 2204.0, 1717.0, 1868.0, 1673.0, 1608.0, 1782.0, 1690.0, 2191.0, 1197.0, 1071.0, 1227.0, 1279.0, 1298.0, 1041.0, 1409.0]\n",
      "['Business Intelligence ', 'Team Leadership ', 'PHP ', 'Project Management ', 'Java ', 'Strategic Planning ', 'English ', 'Microsoft Office ', 'Liderazgo de equipos ', 'Ingl\\xc3\\xa9s ', 'Microsoft Project ', 'Business Strategy ', 'Gesti\\xc3\\xb3n de proyectos ', 'Planificaci\\xc3\\xb3n estrat\\xc3\\xa9gica ', 'Estrategia empresarial ', 'Inteligencia empresarial ', 'Microsoft SQL Server ', 'SQL ', '', 'Microsoft Excel ', 'Microsoft Word ', 'Microsoft PowerPoint ', 'Negociaci\\xc3\\xb3n ', 'Linux ', 'MySQL ', 'Oracle ', 'Espa\\xc3\\xb1ol ']\n"
     ]
    },
    {
     "ename": "UnicodeDecodeError",
     "evalue": "'ascii' codec can't decode byte 0xc3 in position 4: ordinal not in range(128)",
     "output_type": "error",
     "traceback": [
      "\u001b[0;31m---------------------------------------------------------------------------\u001b[0m",
      "\u001b[0;31mUnicodeDecodeError\u001b[0m                        Traceback (most recent call last)",
      "\u001b[0;32m<ipython-input-114-a938986e12fb>\u001b[0m in \u001b[0;36m<module>\u001b[0;34m()\u001b[0m\n\u001b[1;32m     12\u001b[0m \u001b[0max\u001b[0m\u001b[0;34m.\u001b[0m\u001b[0mbar\u001b[0m\u001b[0;34m(\u001b[0m\u001b[0mrange\u001b[0m\u001b[0;34m(\u001b[0m\u001b[0mlen\u001b[0m\u001b[0;34m(\u001b[0m\u001b[0mmejores\u001b[0m\u001b[0;34m)\u001b[0m\u001b[0;34m)\u001b[0m\u001b[0;34m,\u001b[0m\u001b[0mmejores\u001b[0m\u001b[0;34m)\u001b[0m\u001b[0;34m\u001b[0m\u001b[0m\n\u001b[1;32m     13\u001b[0m \u001b[0max\u001b[0m\u001b[0;34m.\u001b[0m\u001b[0mset_xticks\u001b[0m\u001b[0;34m(\u001b[0m\u001b[0mrange\u001b[0m\u001b[0;34m(\u001b[0m\u001b[0mlen\u001b[0m\u001b[0;34m(\u001b[0m\u001b[0mmejores\u001b[0m\u001b[0;34m)\u001b[0m\u001b[0;34m)\u001b[0m\u001b[0;34m)\u001b[0m\u001b[0;34m\u001b[0m\u001b[0m\n\u001b[0;32m---> 14\u001b[0;31m \u001b[0max\u001b[0m\u001b[0;34m.\u001b[0m\u001b[0mset_xticklabels\u001b[0m\u001b[0;34m(\u001b[0m\u001b[0mmap\u001b[0m\u001b[0;34m(\u001b[0m\u001b[0mlista_skills\u001b[0m\u001b[0;34m.\u001b[0m\u001b[0m__getitem__\u001b[0m\u001b[0;34m,\u001b[0m \u001b[0mid_mejores\u001b[0m\u001b[0;34m)\u001b[0m\u001b[0;34m)\u001b[0m\u001b[0;31m#, rotation=90)\u001b[0m\u001b[0;34m\u001b[0m\u001b[0m\n\u001b[0m\u001b[1;32m     15\u001b[0m \u001b[0mplt\u001b[0m\u001b[0;34m.\u001b[0m\u001b[0mshow\u001b[0m\u001b[0;34m(\u001b[0m\u001b[0;34m)\u001b[0m\u001b[0;34m\u001b[0m\u001b[0m\n",
      "\u001b[0;32m/usr/local/lib/python2.7/dist-packages/matplotlib/axes/_base.pyc\u001b[0m in \u001b[0;36mset_xticklabels\u001b[0;34m(self, labels, fontdict, minor, **kwargs)\u001b[0m\n\u001b[1;32m   2907\u001b[0m             \u001b[0mkwargs\u001b[0m\u001b[0;34m.\u001b[0m\u001b[0mupdate\u001b[0m\u001b[0;34m(\u001b[0m\u001b[0mfontdict\u001b[0m\u001b[0;34m)\u001b[0m\u001b[0;34m\u001b[0m\u001b[0m\n\u001b[1;32m   2908\u001b[0m         ret = self.xaxis.set_ticklabels(labels,\n\u001b[0;32m-> 2909\u001b[0;31m                                         minor=minor, **kwargs)\n\u001b[0m\u001b[1;32m   2910\u001b[0m         \u001b[0mself\u001b[0m\u001b[0;34m.\u001b[0m\u001b[0mstale\u001b[0m \u001b[0;34m=\u001b[0m \u001b[0mTrue\u001b[0m\u001b[0;34m\u001b[0m\u001b[0m\n\u001b[1;32m   2911\u001b[0m         \u001b[0;32mreturn\u001b[0m \u001b[0mret\u001b[0m\u001b[0;34m\u001b[0m\u001b[0m\n",
      "\u001b[0;32m/usr/local/lib/python2.7/dist-packages/matplotlib/axis.pyc\u001b[0m in \u001b[0;36mset_ticklabels\u001b[0;34m(self, ticklabels, *args, **kwargs)\u001b[0m\n\u001b[1;32m   1573\u001b[0m         \u001b[0;32mfor\u001b[0m \u001b[0mtick_label\u001b[0m\u001b[0;34m,\u001b[0m \u001b[0mtick\u001b[0m \u001b[0;32min\u001b[0m \u001b[0mzip\u001b[0m\u001b[0;34m(\u001b[0m\u001b[0mticklabels\u001b[0m\u001b[0;34m,\u001b[0m \u001b[0mticks\u001b[0m\u001b[0;34m)\u001b[0m\u001b[0;34m:\u001b[0m\u001b[0;34m\u001b[0m\u001b[0m\n\u001b[1;32m   1574\u001b[0m             \u001b[0;31m# deal with label1\u001b[0m\u001b[0;34m\u001b[0m\u001b[0;34m\u001b[0m\u001b[0m\n\u001b[0;32m-> 1575\u001b[0;31m             \u001b[0mtick\u001b[0m\u001b[0;34m.\u001b[0m\u001b[0mlabel1\u001b[0m\u001b[0;34m.\u001b[0m\u001b[0mset_text\u001b[0m\u001b[0;34m(\u001b[0m\u001b[0mtick_label\u001b[0m\u001b[0;34m)\u001b[0m\u001b[0;34m\u001b[0m\u001b[0m\n\u001b[0m\u001b[1;32m   1576\u001b[0m             \u001b[0mtick\u001b[0m\u001b[0;34m.\u001b[0m\u001b[0mlabel1\u001b[0m\u001b[0;34m.\u001b[0m\u001b[0mupdate\u001b[0m\u001b[0;34m(\u001b[0m\u001b[0mkwargs\u001b[0m\u001b[0;34m)\u001b[0m\u001b[0;34m\u001b[0m\u001b[0m\n\u001b[1;32m   1577\u001b[0m             \u001b[0;31m# deal with label2\u001b[0m\u001b[0;34m\u001b[0m\u001b[0;34m\u001b[0m\u001b[0m\n",
      "\u001b[0;32m/usr/local/lib/python2.7/dist-packages/matplotlib/text.pyc\u001b[0m in \u001b[0;36mset_text\u001b[0;34m(self, s)\u001b[0m\n\u001b[1;32m   1204\u001b[0m         \u001b[0mACCEPTS\u001b[0m\u001b[0;34m:\u001b[0m \u001b[0mstring\u001b[0m \u001b[0;32mor\u001b[0m \u001b[0manything\u001b[0m \u001b[0mprintable\u001b[0m \u001b[0;32mwith\u001b[0m \u001b[0;34m'%s'\u001b[0m \u001b[0mconversion\u001b[0m\u001b[0;34m.\u001b[0m\u001b[0;34m\u001b[0m\u001b[0m\n\u001b[1;32m   1205\u001b[0m         \"\"\"\n\u001b[0;32m-> 1206\u001b[0;31m         \u001b[0mself\u001b[0m\u001b[0;34m.\u001b[0m\u001b[0m_text\u001b[0m \u001b[0;34m=\u001b[0m \u001b[0;34m'%s'\u001b[0m \u001b[0;34m%\u001b[0m \u001b[0;34m(\u001b[0m\u001b[0ms\u001b[0m\u001b[0;34m,\u001b[0m\u001b[0;34m)\u001b[0m\u001b[0;34m\u001b[0m\u001b[0m\n\u001b[0m\u001b[1;32m   1207\u001b[0m         \u001b[0mself\u001b[0m\u001b[0;34m.\u001b[0m\u001b[0mstale\u001b[0m \u001b[0;34m=\u001b[0m \u001b[0mTrue\u001b[0m\u001b[0;34m\u001b[0m\u001b[0m\n\u001b[1;32m   1208\u001b[0m \u001b[0;34m\u001b[0m\u001b[0m\n",
      "\u001b[0;31mUnicodeDecodeError\u001b[0m: 'ascii' codec can't decode byte 0xc3 in position 4: ordinal not in range(128)"
     ]
    }
   ],
   "source": [
    "mejores = []\n",
    "id_mejores = []\n",
    "for i in range(d):\n",
    "    if users_skill[i] > 1000:\n",
    "        mejores.append(users_skill[i])\n",
    "        id_mejores.append(i)\n",
    "\n",
    "print mejores\n",
    "print map(lista_skills.__getitem__, id_mejores)\n",
    "import matplotlib.pyplot as plt\n",
    "fig, ax = plt.subplots()\n",
    "ax.bar(range(len(mejores)),mejores)\n",
    "ax.set_xticks(range(len(mejores)))\n",
    "ax.set_xticklabels(map(lista_skills.__getitem__, id_mejores))#, rotation=90)\n",
    "plt.show()"
   ]
  },
  {
   "cell_type": "markdown",
   "metadata": {},
   "source": [
    "se genera una lista con la cantidad de usuarios por cada $skill$"
   ]
  },
  {
   "cell_type": "code",
   "execution_count": 86,
   "metadata": {
    "collapsed": false
   },
   "outputs": [
    {
     "data": {
      "image/png": "[encoded data removed]",
      "text/plain": [
       "<matplotlib.figure.Figure at 0x7f92ed43cc10>"
      ]
     },
     "metadata": {},
     "output_type": "display_data"
    }
   ],
   "source": [
    "####GRAFICOS-----------------\n",
    "import matplotlib.pyplot as plt\n",
    "\n",
    "f, axarr = plt.subplots(2, 2, figsize=(12, 8))\n",
    "axarr[0, 0].bar(range(200),users_skill[:200])\n",
    "axarr[0, 0].set_xlabel('Skill')\n",
    "axarr[0, 0].set_ylabel('cantidad de usuarios')\n",
    "axarr[0, 0].legend()\n",
    "\n",
    "axarr[0, 1].bar(range(200,4000),users_skill[200:4000])\n",
    "axarr[0, 1].set_xlabel('skill')\n",
    "axarr[0, 1].set_ylabel('cantidad de usuarios')\n",
    "axarr[0, 1].legend()\n",
    "\n",
    "axarr[1, 0].bar(range(4000,7000),users_skill[4000:7000])\n",
    "axarr[1, 0].set_xlabel('skill')\n",
    "axarr[1, 0].set_ylabel('cantidad de usuarios')\n",
    "axarr[1, 0].legend(frameon=True)\n",
    "\n",
    "axarr[1, 1].bar(range(7000,d),users_skill[7000:d])\n",
    "axarr[1, 1].set_xlabel('skill')\n",
    "axarr[1, 1].set_ylabel('cantidad de usuarios')\n",
    "axarr[1, 1].legend(loc='upper right', fancybox=True)\n",
    "\n",
    "f.tight_layout() #separar los subplot\n",
    "plt.show()"
   ]
  },
  {
   "cell_type": "markdown",
   "metadata": {},
   "source": [
    "En los gráficos anteriores se visualiza la cantidad de usuarios que declara cada competencia (skill),"
   ]
  },
  {
   "cell_type": "code",
   "execution_count": 84,
   "metadata": {
    "collapsed": false
   },
   "outputs": [
    {
     "name": "stdout",
     "output_type": "stream",
     "text": [
      "Business Intelligence \n",
      "matrices formadas\n"
     ]
    }
   ],
   "source": [
    "j = 0 # columna a predecir\n",
    "print lista_skills[0]\n",
    "cols = range(d) #lista de columnas\n",
    "cols.remove(j)\n",
    "\n",
    "y_tr = Z_tr.getcol(j).toarray().T[0] #target training set\n",
    "y_ts = Z_ts.getcol(j).toarray().T[0] #target test set\n",
    "\n",
    "from scipy import sparse\n",
    "X_tr = sparse.lil_matrix(sparse.csr_matrix(Z_tr)[:,cols])\n",
    "X_ts = sparse.lil_matrix(sparse.csr_matrix(Z_ts)[:,cols])\n",
    "print \"matrices formadas\""
   ]
  },
  {
   "cell_type": "code",
   "execution_count": 16,
   "metadata": {
    "collapsed": false
   },
   "outputs": [
    {
     "name": "stdout",
     "output_type": "stream",
     "text": [
      "None\n"
     ]
    }
   ],
   "source": [
    "LDA\n",
    "QDA\n",
    "SVM\n",
    "Logistic\n",
    "Bayes\n",
    "Multi"
   ]
  },
  {
   "cell_type": "code",
   "execution_count": 6,
   "metadata": {
    "collapsed": false
   },
   "outputs": [
    {
     "name": "stdout",
     "output_type": "stream",
     "text": [
      "El modelo: Naive Bayes se ha ajustado\n",
      "El modelo: Multinomial se ha ajustado\n",
      "El modelo: Logistico se ha ajustado\n",
      "El modelo: SVM se ha ajustado\n",
      "El modelo: k-NN se ha ajustado\n",
      "El modelo: Arboles se ha ajustado\n",
      "[0.8672632363907532, 0.83272517764547727, 0.89149888143176736, 0.82024198194737852, 0.97688292319164804, 0.87824082965239103, 0.98098434004474278, 0.87267140387939313, 0.83929903057419841, 0.81275206452851934, 1.0, 0.78471288649894377, 0.68307233407904544, 0.69463087248322153]\n"
     ]
    }
   ],
   "source": [
    "from sklearn.naive_bayes import BernoulliNB\n",
    "from sklearn.naive_bayes import MultinomialNB\n",
    "from sklearn.linear_model import LogisticRegression\n",
    "from sklearn.tree import DecisionTreeClassifier\n",
    "from sklearn.svm import LinearSVC\n",
    "from sklearn.neighbors import KNeighborsClassifier\n",
    "from sklearn.metrics import classification_report\n",
    "\n",
    "def score_the_model(model,x,y,xt,yt,text):\n",
    "    acc_tr = model.score(x,y)\n",
    "    acc_test = model.score(xt[:-1],yt[:-1])\n",
    "    print \"El modelo: %s se ha ajustado\"%(text)\n",
    "    return [acc_tr,acc_test]\n",
    "\n",
    "def clasificar_prob(y,yt):\n",
    "    #AJUSTE\n",
    "    frecuencia =  np.bincount(y) \n",
    "    etiquetas = list(set(y))\n",
    "    total = float(sum(frecuencia))\n",
    "    prob = [i/total for i in frecuencia]\n",
    "    #PREDICT\n",
    "    np.random.seed(0)\n",
    "    yhat = [ np.random.choice(etiquetas,p=prob) for i in range(len(y)) ]\n",
    "    yhat_t = [ np.random.choice(etiquetas,p=prob) for i in range(len(y)) ]\n",
    "    #SCORE\n",
    "    acc_tr = [ 1 if(i == j) else 0  for i,j in zip(yhat,y)]\n",
    "    acc_ts = [ 1 if(i == j) else 0  for i,j in zip(yhat_t,yt)]\n",
    "    return [ np.mean(acc_tr), np.mean(acc_ts) ] \n",
    "\n",
    "names = [\"Naive Bayes\",\"Multinomial\",\"Logistico\",\"SVM\",\"k-NN\",\"Arboles\"]\n",
    "classifiers = [\n",
    "    BernoulliNB(),\n",
    "    MultinomialNB(),\n",
    "    LogisticRegression(penalty='l2',C=1),\n",
    "    LinearSVC(C=0.1),\n",
    "    KNeighborsClassifier(n_neighbors=10),\n",
    "    DecisionTreeClassifier(max_features = 'log2')\n",
    "]\n",
    "def make_classification(x,y,xt,yt):\n",
    "    accuracys = []\n",
    "    for model,name in zip(classifiers,names):\n",
    "        if name == \"Arboles\":\n",
    "            x  = x.todense()\n",
    "            xt = xt.todense()\n",
    "        model.fit(x, y)\n",
    "        accuracys += score_the_model(model,x,y,xt,yt,name)\n",
    "    #clasificador a priori\n",
    "    accuracys += clasificar_prob(y,yt)\n",
    "    return accuracys\n",
    "    \n",
    "scores = make_classification(X_tr,y_tr,X_ts,y_ts)\n",
    "print scores"
   ]
  },
  {
   "cell_type": "code",
   "execution_count": 12,
   "metadata": {
    "collapsed": false,
    "scrolled": true
   },
   "outputs": [
    {
     "name": "stderr",
     "output_type": "stream",
     "text": [
      "/usr/lib/python2.7/dist-packages/matplotlib/backends/backend_gtk.py:253: Warning: Source ID 2671 was not found when attempting to remove it\n",
      "  gobject.source_remove(self._idle_event_id)\n"
     ]
    }
   ],
   "source": [
    "####GRAFICOS-----------------\n",
    "import matplotlib.pyplot as plt\n",
    "\n",
    "def graficar_scores(scores):\n",
    "    colors = ['b','r']*7\n",
    "    fig, ax = plt.subplots(figsize=(8,6))\n",
    "    \n",
    "    barlist = ax.bar(range(0,14), scores, width  = 0.5, align = \"center\", color = colors)\n",
    "    ax.set_ylabel('Desempenno')\n",
    "    ax.set_title('Desempenno para cada clasificador')\n",
    "    ax.set_xticks([0.5,2.5,4.5,6.5,8.5,10.5,12.5])\n",
    "    ax.set_xticklabels(names+[\"a-priori\"])\n",
    "    ax.legend( barlist,[\"Training set\",\"Test set\"], loc = 'center left')\n",
    "    plt.autoscale(enable=True, axis='x', tight=True)\n",
    "    plt.show()\n",
    "    \n",
    "graficar_scores(scores)\n"
   ]
  },
  {
   "cell_type": "code",
   "execution_count": 17,
   "metadata": {
    "collapsed": false
   },
   "outputs": [
    {
     "name": "stdout",
     "output_type": "stream",
     "text": [
      "El modelo: Naive Bayes se ha ajustado\n",
      "El modelo: Multinomial se ha ajustado\n",
      "El modelo: Logistico se ha ajustado\n",
      "El modelo: SVM se ha ajustado\n",
      "El modelo: k-NN se ha ajustado\n",
      "El modelo: Arboles se ha ajustado\n",
      "[0.8523489932885906, 0.81275206452851934, 0.87173750932140193, 0.78317649318225468, 0.97315436241610742, 0.84386402919147296, 0.97464578672632363, 0.83906280007681966, 0.79455630126771071, 0.77069329748415594, 1.0, 0.75609756097560976, 0.61036539895600295, 0.62341536167039524]\n"
     ]
    },
    {
     "name": "stderr",
     "output_type": "stream",
     "text": [
      "/usr/lib/python2.7/dist-packages/matplotlib/backends/backend_gtk.py:253: Warning: Source ID 4255 was not found when attempting to remove it\n",
      "  gobject.source_remove(self._idle_event_id)\n"
     ]
    },
    {
     "name": "stdout",
     "output_type": "stream",
     "text": [
      "El modelo: Naive Bayes se ha ajustado\n",
      "El modelo: Multinomial se ha ajustado\n",
      "El modelo: Logistico se ha ajustado\n",
      "El modelo: SVM se ha ajustado\n",
      "El modelo: k-NN se ha ajustado\n",
      "El modelo: Arboles se ha ajustado\n",
      "[0.89373601789709167, 0.87612828884194349, 0.90380313199105144, 0.84732091415402344, 0.98210290827740487, 0.91069713846744771, 0.98657718120805371, 0.90858459765700017, 0.89746457867263241, 0.88841943537545609, 1.0, 0.80026886883042059, 0.77181208053691275, 0.79306487695749439]\n"
     ]
    },
    {
     "name": "stderr",
     "output_type": "stream",
     "text": [
      "/usr/lib/python2.7/dist-packages/matplotlib/backends/backend_gtk.py:253: Warning: Source ID 4345 was not found when attempting to remove it\n",
      "  gobject.source_remove(self._idle_event_id)\n"
     ]
    },
    {
     "name": "stdout",
     "output_type": "stream",
     "text": [
      "El modelo: Naive Bayes se ha ajustado\n",
      "El modelo: Multinomial se ha ajustado\n",
      "El modelo: Logistico se ha ajustado\n",
      "El modelo: SVM se ha ajustado\n",
      "El modelo: k-NN se ha ajustado\n",
      "El modelo: Arboles se ha ajustado\n",
      "[0.97129008202833711, 0.96274246207029002, 0.96830723340790459, 0.94565008642212411, 0.99552572706935127, 0.96754369118494332, 0.99664429530201337, 0.96581524870366819, 0.97278150633855331, 0.96312656039946232, 1.0, 0.95390820049932779, 0.9407158836689038, 0.94705443698732295]\n"
     ]
    },
    {
     "name": "stderr",
     "output_type": "stream",
     "text": [
      "/usr/lib/python2.7/dist-packages/matplotlib/backends/backend_gtk.py:253: Warning: Source ID 4363 was not found when attempting to remove it\n",
      "  gobject.source_remove(self._idle_event_id)\n"
     ]
    },
    {
     "name": "stdout",
     "output_type": "stream",
     "text": [
      "El modelo: Naive Bayes se ha ajustado\n",
      "El modelo: Multinomial se ha ajustado\n",
      "El modelo: Logistico se ha ajustado\n",
      "El modelo: SVM se ha ajustado\n",
      "El modelo: k-NN se ha ajustado\n",
      "El modelo: Arboles se ha ajustado\n",
      "[0.99627143922445938, 0.99135778759362392, 0.99254287844891875, 0.98098713270597271, 0.9992542878448919, 0.99270213174572686, 1.0, 0.99212598425196852, 0.99627143922445938, 0.99135778759362392, 1.0, 0.98924524678317649, 0.99254287844891875, 0.98769574944071592]\n"
     ]
    },
    {
     "name": "stderr",
     "output_type": "stream",
     "text": [
      "/usr/lib/python2.7/dist-packages/matplotlib/backends/backend_gtk.py:253: Warning: Source ID 4381 was not found when attempting to remove it\n",
      "  gobject.source_remove(self._idle_event_id)\n"
     ]
    },
    {
     "name": "stdout",
     "output_type": "stream",
     "text": [
      "El modelo: Naive Bayes se ha ajustado\n",
      "El modelo: Multinomial se ha ajustado\n",
      "El modelo: Logistico se ha ajustado\n",
      "El modelo: SVM se ha ajustado\n",
      "El modelo: k-NN se ha ajustado\n",
      "El modelo: Arboles se ha ajustado\n",
      "[0.99701715137956748, 0.9951987708853467, 0.99366144668158096, 0.98521221432686767, 1.0, 0.99539082004993273, 1.0, 0.99539082004993273, 0.99701715137956748, 0.9951987708853467, 1.0, 0.99174188592279622, 0.99328859060402686, 0.99067859806114844]\n"
     ]
    },
    {
     "name": "stderr",
     "output_type": "stream",
     "text": [
      "/usr/lib/python2.7/dist-packages/matplotlib/backends/backend_gtk.py:253: Warning: Source ID 4399 was not found when attempting to remove it\n",
      "  gobject.source_remove(self._idle_event_id)\n"
     ]
    }
   ],
   "source": [
    "from scipy import sparse\n",
    "\n",
    "competencias = [1,40,340,500,900] # columna a predecir (> 1000 produce errores con logistic)\n",
    "\n",
    "for j in competencias:\n",
    "    print \"Competencia que predice: %s\"%(lista_skills[j])\n",
    "    cols = range(d) #lista de columnas\n",
    "    cols.remove(j)\n",
    "\n",
    "    y_tr = Z_tr.getcol(j).toarray().T[0] #target training set\n",
    "    y_ts = Z_ts.getcol(j).toarray().T[0] #target test set\n",
    "\n",
    "    X_tr = sparse.lil_matrix(sparse.csr_matrix(Z_tr)[:,cols])\n",
    "    X_ts = sparse.lil_matrix(sparse.csr_matrix(Z_ts)[:,cols])\n",
    "    \n",
    "    scores = make_classification(X_tr,y_tr,X_ts,y_ts)\n",
    "    print scores\n",
    "    \n",
    "    graficar_scores(scores)\n",
    "    \n",
    "    #if j == 340:\n",
    "    #    break\n",
    "    \n",
    "    "
   ]
  },
  {
   "cell_type": "code",
   "execution_count": null,
   "metadata": {
    "collapsed": true
   },
   "outputs": [],
   "source": []
  }
 ],
 "metadata": {
  "kernelspec": {
   "display_name": "Python 2",
   "language": "python",
   "name": "python2"
  },
  "language_info": {
   "codemirror_mode": {
    "name": "ipython",
    "version": 2
   },
   "file_extension": ".py",
   "mimetype": "text/x-python",
   "name": "python",
   "nbconvert_exporter": "python",
   "pygments_lexer": "ipython2",
   "version": "2.7.9"
  }
 },
 "nbformat": 4,
 "nbformat_minor": 1
}
