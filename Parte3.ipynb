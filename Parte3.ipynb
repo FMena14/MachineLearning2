{
 "cells": [
  {
   "cell_type": "code",
   "execution_count": 14,
   "metadata": {
    "collapsed": false
   },
   "outputs": [
    {
     "name": "stdout",
     "output_type": "stream",
     "text": [
      "(7890, 14544)\n"
     ]
    }
   ],
   "source": [
    "import pandas as pd\n",
    "import numpy as np\n",
    "from scipy.sparse import csr_matrix\n",
    "from scipy.io import mmread\n",
    "\n",
    "def cargar_archivo(arch):\n",
    "    f = open(arch,'r')\n",
    "    lines= f.readlines()\n",
    "    M = [ line.replace(\":\",',').replace(\"\\n\",\"\").split(',') for line in lines]\n",
    "    \n",
    "    lista_sparse = []\n",
    "    for usuario in M:\n",
    "        user_id = usuario.pop(0)\n",
    "        for skill in usuario:\n",
    "            lista_sparse.append([int(user_id),int(skill),1])\n",
    "            \n",
    "    rows,cols,data = zip(*lista_sparse)\n",
    "    return csr_matrix((data, (rows, cols)))\n",
    "dt_userskill = cargar_archivo('user_skill')\n",
    "print dt_userskill.shape"
   ]
  },
  {
   "cell_type": "code",
   "execution_count": 48,
   "metadata": {
    "collapsed": false
   },
   "outputs": [],
   "source": [
    "n = 7890 #number of users\n",
    "d = 14544 #number of skills\n",
    "\n",
    "#dt_userskill split xd"
   ]
  },
  {
   "cell_type": "code",
   "execution_count": 50,
   "metadata": {
    "collapsed": false
   },
   "outputs": [
    {
     "data": {
      "image/png": "[encoded data removed]",
      "text/plain": [
       "<matplotlib.figure.Figure at 0x7fb2c1c56c50>"
      ]
     },
     "metadata": {},
     "output_type": "display_data"
    }
   ],
   "source": [
    "#for skill in range(d):\n",
    "users_skill = []\n",
    "for i in range(d): #every skill\n",
    "    users_skill.append( dt_userskill.getcol(i).getnnz())\n",
    "\n",
    "from matplotlib import pyplot as plt\n",
    "#plotear por rangos de numero de usuarios\n",
    "plt.plot(range(d),users_skill)\n",
    "plt.show()"
   ]
  },
  {
   "cell_type": "code",
   "execution_count": null,
   "metadata": {
    "collapsed": true
   },
   "outputs": [],
   "source": []
  }
 ],
 "metadata": {
  "kernelspec": {
   "display_name": "Python 2",
   "language": "python",
   "name": "python2"
  },
  "language_info": {
   "codemirror_mode": {
    "name": "ipython",
    "version": 2
   },
   "file_extension": ".py",
   "mimetype": "text/x-python",
   "name": "python",
   "nbconvert_exporter": "python",
   "pygments_lexer": "ipython2",
   "version": "2.7.9"
  }
 },
 "nbformat": 4,
 "nbformat_minor": 1
}
