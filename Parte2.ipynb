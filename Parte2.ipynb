{
 "cells": [
  {
   "cell_type": "markdown",
   "metadata": {},
   "source": [
    "# Análisis de opiniones sobre Películas "
   ]
  },
  {
   "cell_type": "markdown",
   "metadata": {},
   "source": [
    "En esta sección se trabajará con un dataset del sitio <b>Rotten Tomatoes</b>, el cual consta de opiniones de la gente sobre alguna película, en texto en ingles. Se intentará predecir si la opinión de la persona es una opinión $positiva$ o $negativa$ (1 y -1) en base a un análisis de las palabras utilizadas en la opinion. Se trabaja además con operaciones de stopwords, stemming y lemmatization."
   ]
  },
  {
   "cell_type": "code",
   "execution_count": 1,
   "metadata": {
    "collapsed": false
   },
   "outputs": [
    {
     "name": "stdout",
     "output_type": "stream",
     "text": [
      "(3554, 2)\n",
      "(3554, 2)\n",
      "   Sentiment                                               Text\n",
      "0         -1  everything's serious , poetic , earnest and --...\n",
      "1         -1  narratively , trouble every day is a plodding ...\n",
      "2          1  a truly wonderful tale combined with stunning ...\n",
      "3          1  jason patric and ray liotta make for one splen...\n",
      "4         -1  haneke keeps us at arm's length . guided more ...\n",
      "      Sentiment                                               Text\n",
      "3549          1  a fascinating documentary about the long and e...\n",
      "3550          1  the filmmakers' eye for detail and the high st...\n",
      "3551          1  throwing caution to the wind with an invitatio...\n",
      "3552         -1  �a big , baggy , sprawling carnival of a movie...\n",
      "3553          1  an incendiary , deeply thought-provoking look ...\n",
      "TRAINING-Cantidad clase negativa:  1784\n",
      "TRAINING-Cantidad clase positiva:  1770\n",
      "TEST-Cantidad clase negativa:  1803\n",
      "TEST-Cantidad clase positiva:  1751\n"
     ]
    }
   ],
   "source": [
    "# Importar los datos y ver sus dimensiones\n",
    "import urllib\n",
    "import pandas as pd\n",
    "train_data_url = \"http://www.inf.utfsm.cl/~jnancu/stanford-subset/polarity.train\"\n",
    "test_data_url = \"http://www.inf.utfsm.cl/~jnancu/stanford-subset/polarity.dev\"\n",
    "train_data_f = urllib.urlretrieve(train_data_url, \"train_data.csv\")\n",
    "test_data_f = urllib.urlretrieve(test_data_url, \"test_data.csv\")\n",
    "ftr = open(\"train_data.csv\", \"r\")\n",
    "fts = open(\"test_data.csv\", \"r\")\n",
    "rows = [line.split(\" \",1) for line in ftr.readlines()]\n",
    "train_df = pd.DataFrame(rows, columns=['Sentiment','Text'])\n",
    "train_df['Sentiment'] = pd.to_numeric(train_df['Sentiment'])\n",
    "rows = [line.split(\" \",1) for line in fts.readlines()]\n",
    "test_df = pd.DataFrame(rows, columns=['Sentiment','Text'])\n",
    "test_df['Sentiment'] = pd.to_numeric(test_df['Sentiment'])\n",
    "print train_df.shape\n",
    "print test_df.shape\n",
    "print train_df.head()\n",
    "print test_df.tail()\n",
    "\n",
    "#Contar cantidad de cada clase   \n",
    "print \"TRAINING-Cantidad clase negativa: \",train_df[\"Sentiment\"].tolist().count(-1)\n",
    "print \"TRAINING-Cantidad clase positiva: \",train_df[\"Sentiment\"].tolist().count(1)\n",
    "print \"TEST-Cantidad clase negativa: \",test_df[\"Sentiment\"].tolist().count(-1)\n",
    "print \"TEST-Cantidad clase positiva: \",test_df[\"Sentiment\"].tolist().count(1)"
   ]
  },
  {
   "cell_type": "markdown",
   "metadata": {},
   "source": [
    "En primera parte se carga los datos y se almacenan en un archivo local .csv. Luego se muestra un extracto del dataset donde se pueden ver opiniones ($text$) y su polaridad ($sentiment$).\n",
    "\n",
    "La cantidad de datos en el training set de la clase negativa y positiva son 1784 y 1770 respectivamente. La cantidad de datos en el test set de la clase negativa y positiva son 1803 y 1751 respectivamente. Se puede observar que la cantidad de datos por clase es homogéneo, aportando a que el training set tenga un aprendizaje equitativo en cuanto a las clases."
   ]
  },
  {
   "cell_type": "code",
   "execution_count": 2,
   "metadata": {
    "collapsed": false,
    "scrolled": true
   },
   "outputs": [
    {
     "name": "stdout",
     "output_type": "stream",
     "text": [
      "---------------------word_extractor---------------------\n",
      " love eat cake\n",
      " love eat cake\n",
      " love eat cake\n",
      " love eat cake\n",
      " n't love eat cake\n",
      " walk moon\n",
      " see big foot\n",
      " saw dog eat cat\n",
      " dog call pluto\n",
      " eat cake\n",
      " eat lot jelli\n",
      " eat lot cake\n",
      "---------------------word_extractor_sin_stemming---------------------\n",
      " love eat cake\n",
      " love eating cake\n",
      " loved eating cake\n",
      " love eating cake\n",
      " n't love eating cake\n",
      " walking moon\n",
      " see big foot\n",
      " saw dog eat cat\n",
      " dog called pluto\n",
      " eating cake\n",
      " eat lots jellies\n",
      " eat lots cakes\n"
     ]
    }
   ],
   "source": [
    "import re, time\n",
    "from nltk.corpus import stopwords\n",
    "from nltk import WordNetLemmatizer, word_tokenize\n",
    "from nltk.stem.porter import PorterStemmer\n",
    "\n",
    "def word_extractor(text):\n",
    "    stemmer = PorterStemmer()\n",
    "    commonwords = stopwords.words('english')\n",
    "    text = re.sub(r'([a-z])\\1+', r'\\1\\1',text)#substitute multiple letter by two\n",
    "    words = \"\"\n",
    "    wordtokens = [ stemmer.stem(word.lower()) \\\n",
    "        for word in word_tokenize(text.decode('utf-8', 'ignore')) ]\n",
    "    for word in wordtokens:\n",
    "        if word not in commonwords:\n",
    "            words+=\" \"+word\n",
    "    return words\n",
    "def word_extractor_sin_stemming(text):\n",
    "    commonwords = stopwords.words('english')\n",
    "    text = re.sub(r'([a-z])\\1+', r'\\1\\1',text)#substitute multiple letter by two\n",
    "    words = \"\"\n",
    "    wordtokens = [ word.lower() \\\n",
    "        for word in word_tokenize(text.decode('utf-8', 'ignore')) ]\n",
    "    for word in wordtokens:\n",
    "        if word not in commonwords:\n",
    "            words+=\" \"+word\n",
    "    return words\n",
    "\n",
    "print \"---------------------word_extractor---------------------\"\n",
    "print word_extractor(\"I love to eat cake\")\n",
    "print word_extractor(\"I love eating cake\")\n",
    "print word_extractor(\"I loved eating the cake\")\n",
    "print word_extractor(\"I do not love eating cake\")\n",
    "print word_extractor(\"I don't love eating cake\")\n",
    "# propias\n",
    "print word_extractor(\"They are walking in the moon\")\n",
    "print word_extractor(\"I see a big foot\")\n",
    "print word_extractor(\"I saw my dog eat my cat\")\n",
    "print word_extractor(\"I have a dog called Pluto\")\n",
    "print word_extractor(\"I am eating cake\")\n",
    "print word_extractor(\"I eat lots of jellies\")\n",
    "print word_extractor(\"I eat a lots of cakes\")\n",
    "\n",
    "print \"---------------------word_extractor_sin_stemming---------------------\"\n",
    "print word_extractor_sin_stemming(\"I love to eat cake\")\n",
    "print word_extractor_sin_stemming(\"I love eating cake\")\n",
    "print word_extractor_sin_stemming(\"I loved eating the cake\")\n",
    "print word_extractor_sin_stemming(\"I do not love eating cake\")\n",
    "print word_extractor_sin_stemming(\"I don't love eating cake\")\n",
    "# propias\n",
    "print word_extractor_sin_stemming(\"They are walking in the moon\")\n",
    "print word_extractor_sin_stemming(\"I see a big foot\")\n",
    "print word_extractor_sin_stemming(\"I saw my dog eat my cat\")\n",
    "print word_extractor_sin_stemming(\"I have a dog called Pluto\")\n",
    "print word_extractor_sin_stemming(\"I am eating cake\")\n",
    "print word_extractor_sin_stemming(\"I eat lots of jellies\")\n",
    "print word_extractor_sin_stemming(\"I eat a lots of cakes\")"
   ]
  },
  {
   "cell_type": "markdown",
   "metadata": {},
   "source": [
    "Se puede observar que al aplicar el algoritmo $word\\_extractor()$ captura el tronco léxico base de cada palabra en las distintas oraciones. En los 4 primeros ejemplos se obtiene el mismo tronco léxico para las oraciones, puesto que se trata solamente de palabras que se le agrega el \"ing\" o el \"ed\" al final. Tambien se observa que existe diferencia entre poner \"do not\" y \"don't\" obteniéndose distintas palabras como resultado, en el primer caso se consideran palabras separadas por lo que son eliminadas por la función <b>stopwords</b>, la cual elimina palabras que no aportan al significado, es decir, palabras sin información o de significado vacío como los artículos, los pronombres o las preposiciones. La importancia de borrar estas palabras es para hacer más eficiente el análisis de clasificación, puesto que así no se pierde tiempo procesando y guardando estas palabras en el algoritmo.\n",
    "\n",
    "Si no se aplica <i>stemming</i>, las palabras no son reducidas a su tronco léxico por lo que quedan con su \"extención\" (-ing, -s, -ies, -es, -ed, entre otros)."
   ]
  },
  {
   "cell_type": "code",
   "execution_count": 3,
   "metadata": {
    "collapsed": false
   },
   "outputs": [
    {
     "name": "stdout",
     "output_type": "stream",
     "text": [
      " love eat cake\n",
      " love eating cake\n",
      " loved eating cake\n",
      " love eating cake\n",
      " n't love eating cake\n",
      " walking moon\n",
      " see big foot\n",
      " saw dog eat cat\n",
      " dog called pluto\n",
      " eating cake\n",
      " eat lot jelly\n",
      " eat lot cake\n"
     ]
    }
   ],
   "source": [
    "# Funcion igual a la anterior, pero con lematizing en vez de stemming\n",
    "def word_extractor2(text):\n",
    "    wordlemmatizer = WordNetLemmatizer()\n",
    "    commonwords = stopwords.words('english')\n",
    "    text = re.sub(r'([a-z])\\1+', r'\\1\\1',text)#substitute multiple letter by two\n",
    "    words = \"\"\n",
    "    wordtokens = [ wordlemmatizer.lemmatize(word.lower()) \\\n",
    "            for word in word_tokenize(text.decode('utf-8','ignore')) ]\n",
    "    for word in wordtokens:\n",
    "        if word not in commonwords:\n",
    "            words+=\" \"+word\n",
    "    return words\n",
    "def word_extractor_sin_stop(text):\n",
    "    wordlemmatizer = WordNetLemmatizer()\n",
    "    text = re.sub(r'([a-z])\\1+', r'\\1\\1',text)#substitute multiple letter by two\n",
    "    wordtokens = [ wordlemmatizer.lemmatize(word.lower()) \\\n",
    "        for word in word_tokenize(text.decode('utf-8', 'ignore')) ]\n",
    "    words = \"\"\n",
    "    for word in wordtokens:\n",
    "        words+=\" \"+word\n",
    "    return words\n",
    "print word_extractor2(\"I love to eat cake\")\n",
    "print word_extractor2(\"I love eating cake\")\n",
    "print word_extractor2(\"I loved eating the cake\")\n",
    "print word_extractor2(\"I do not love eating cake\")\n",
    "print word_extractor2(\"I don't love eating cake\")\n",
    "#propias\n",
    "print word_extractor2(\"They are walking in the moon\")\n",
    "print word_extractor2(\"I see a big foot\")\n",
    "print word_extractor2(\"I saw my dog eat my cat\")\n",
    "print word_extractor2(\"I have a dog called Pluto\")\n",
    "print word_extractor2(\"I am eating cake\")\n",
    "print word_extractor2(\"I eat lots of jellies\")\n",
    "print word_extractor2(\"I eat a lot of cakes\")"
   ]
  },
  {
   "cell_type": "markdown",
   "metadata": {},
   "source": [
    "Para el caso de la función $word\\_extractor2()$ utiliza <i>lemmatization</i> el cual reduce las palabras asociándolas a alguna palabra del diccionario, eliminando los finales de las palabras que cambian el significado de estas, reduciendolas al una forma canónica.\n",
    "\n",
    "Se puede ver la diferencia entre <i>lemmatization</i> y <i>stemming</i> en los ejemplos, ya que la primera deja intacto los finales -ed y -ing. Ambos eliminan los finales -es y -s, como es el caso de \"jellies\" a \"jelly\" y \"cakes\" a \"cake\", sin embargo la forma mediante <i>stemming</i> es mas reducida, ya que elimina también los finales -ed y -ing. "
   ]
  },
  {
   "cell_type": "code",
   "execution_count": 51,
   "metadata": {
    "collapsed": false
   },
   "outputs": [
    {
     "name": "stdout",
     "output_type": "stream",
     "text": [
      "Cantidad de palabras en el diccionario: 9663.000000\n",
      "==========  =========  ============  ===  ======  =========  ============\n",
      "  Training  Palabra      Frecuencia  #      Test  Palabra      Frecuencia\n",
      "==========  =========  ============  ===  ======  =========  ============\n",
      "         1  film                566  #         1  film                558\n",
      "         2  movie               481  #         2  movie               540\n",
      "         3  one                 246  #         3  one                 250\n",
      "         4  like                245  #         4  ha                  238\n",
      "         5  ha                  224  #         5  like                230\n",
      "         6  make                183  #         6  story               197\n",
      "         7  story               176  #         7  character           175\n",
      "         8  character           163  #         8  time                165\n",
      "         9  comedy              145  #         9  make                161\n",
      "        10  time                143  #        10  comedy              134\n",
      "==========  =========  ============  ===  ======  =========  ============\n"
     ]
    }
   ],
   "source": [
    "# Representacion vectorial del texto de entrenamiento y el de pruebas\n",
    "import numpy as np\n",
    "from sklearn.feature_extraction.text import CountVectorizer\n",
    "\n",
    "texts_train = [word_extractor2(text) for text in train_df.Text]\n",
    "texts_test = [word_extractor2(text) for text in test_df.Text]\n",
    "vectorizer = CountVectorizer(ngram_range=(1, 1), binary='False')\n",
    "vectorizer.fit(np.asarray(texts_train))\n",
    "features_train = vectorizer.transform(texts_train)\n",
    "features_test = vectorizer.transform(texts_test)\n",
    "labels_train = np.asarray((train_df.Sentiment.astype(float)+1)/2.0) #0 y 1\n",
    "labels_test = np.asarray((test_df.Sentiment.astype(float)+1)/2.0) # 0 y 1\n",
    "vocab = vectorizer.get_feature_names() #se crea en base al texts train\n",
    "dist=list(np.array(features_train.sum(axis=0)).reshape(-1,))\n",
    "dist2=list(np.array(features_test.sum(axis=0)).reshape(-1,))\n",
    "\n",
    "# Se ordenan las palabras por cantidad\n",
    "lista_train = zip(vocab, dist)\n",
    "lista_train.sort(key=lambda x: x[1])\n",
    "lista_train.reverse()\n",
    "# Se ordenan las palabras por cantidad\n",
    "lista_test = zip(vocab, dist2)\n",
    "lista_test.sort(key=lambda x: x[1])\n",
    "lista_test.reverse()\n",
    "\n",
    "N = 10\n",
    "pals_train = []\n",
    "count_train =[]\n",
    "pals_test = []\n",
    "count_test = []\n",
    "for i in range(N):\n",
    "    tag, count = lista_train[i]\n",
    "    pals_train.append(tag)\n",
    "    count_train.append(count)\n",
    "    tag_test, count_t = lista_test[i]\n",
    "    pals_test.append(tag_test)\n",
    "    count_test.append(count_t)    \n",
    "print \"Cantidad de palabras en el diccionario: %f\"%(len(vocab))\n",
    "\n",
    "a = [range(1,11),pals_train,count_train, [\"#\",\"#\",\"#\",\"#\",\"#\",\"#\",\"#\",\"#\",\"#\",\"#\"], range(1,11), pals_test,count_test]\n",
    "table =  zip(*a)\n",
    "from tabulate import tabulate\n",
    "print tabulate(table, headers=[\"Training\",\"Palabra\",\"Frecuencia\",\"#\", \"Test\",\"Palabra\",\"Frecuencia\"],  tablefmt=\"rst\")\n",
    "a = [pals_test,count_test]"
   ]
  },
  {
   "cell_type": "markdown",
   "metadata": {},
   "source": [
    "Se genera una representación vectorial de los datos de entrenamiento y de prueba, ajustado a los datos de entrenamiento, donde cada eje representa a una palabra, indicando un 1 si esa palabra está presente en la opinion de la persona, es decir, es un vector de las palabras que contiene la opinion de la persona.\n",
    "\n",
    "Se puede ver que el <b>diccionario</b> con el cual se trabajará (<i>vocab</i>) es dependiente del training set, por lo que dependerá en gran parte de la diversidad de palabras que se utilicen en este set, debiendo presentar una gran cantidad de datos y con una variedad de lenguaje lo mas amplia posible, así para que no existan palabras en el test set que no las reconozca el diccionario ya que no están presentes.\n",
    "\n",
    "La cantidad de palabras en el diccionario es 9663. Dentro de estas, las más frecuentes para el training set y para el test set son presentadas en la tabla anterior, donde las 10 palabras obtenidas en cada set son las mismas pero con distinta frecuencia. Se puede ver como las palabras más repetidas son las más relacionadas con la temática (películas) ya que son \"film\", \"movie\", \"story\",\"character\",\"comedy\". Hay algunas palabras bastante repetidas que no entregan mucho significado, tal como \"ha\" o como \"one\". 1 de cada 7 opiniones presenta la palabra \"film\". Se puede ver como una palabra por si sola no entrega el suficiente significado para determinar si una opinion es positiva o negativa, ya que estas 10 palabras más repetidas son un ejemplo de que no lo hacen. Se tiene el ejemplo de la palabra \"like\" la cual en un contexto distinto es utilizado con distintos propósitos, tales como \"I like the movie\" o \"I didn't like the movie\", por lo que por sí sola no entrega la información necesaria."
   ]
  },
  {
   "cell_type": "code",
   "execution_count": 30,
   "metadata": {
    "collapsed": true
   },
   "outputs": [],
   "source": [
    "def representacion(forma):\n",
    "    if forma == \"normal\":\n",
    "        texts_train = [word_extractor_sin_stop(text) for text in train_df.Text]\n",
    "        texts_test = [word_extractor_sin_stop(text) for text in test_df.Text]\n",
    "    elif forma == \"stem\":\n",
    "        texts_train = [word_extractor(text) for text in train_df.Text]\n",
    "        texts_test = [word_extractor(text) for text in test_df.Text]\n",
    "    elif forma == \"lem\":\n",
    "        texts_train = [word_extractor2(text) for text in train_df.Text]\n",
    "        texts_test = [word_extractor2(text) for text in test_df.Text]\n",
    "    vectorizer = CountVectorizer(ngram_range=(1, 1), binary='False')\n",
    "    vectorizer.fit(np.asarray(texts_train))\n",
    "    features_train = vectorizer.transform(texts_train)\n",
    "    features_test = vectorizer.transform(texts_test)\n",
    "    labels_train = np.asarray((train_df.Sentiment.astype(float)+1)/2.0) #0 y 1\n",
    "    labels_test = np.asarray((test_df.Sentiment.astype(float)+1)/2.0) # 0 y 1\n",
    "    return features_train,labels_train,features_test,labels_test"
   ]
  },
  {
   "cell_type": "markdown",
   "metadata": {},
   "source": [
    "La función anterior es utilizada para generar la representación vectorial mediante los distintos procesos de reducción léxica."
   ]
  },
  {
   "cell_type": "code",
   "execution_count": 7,
   "metadata": {
    "collapsed": true
   },
   "outputs": [],
   "source": [
    "from sklearn.metrics import classification_report,precision_recall_fscore_support\n",
    "# Funcion que evalua el desempeño de un clasificador generico en el conjunto de entrenamiento y de pruebas\n",
    "def score_the_model(model,x,y,xt,yt,text):\n",
    "    acc_tr = model.score(x,y)\n",
    "    acc_test = model.score(xt[:-1],yt[:-1])\n",
    "    print \"Training Accuracy %s: %f\"%(text,acc_tr)\n",
    "    print \"Test Accuracy %s: %f\"%(text,acc_test)\n",
    "    print \"Detailed Analysis Testing Results ...\"\n",
    "    print(classification_report(yt, model.predict(xt), target_names=['+','-']))\n",
    "    \n",
    "#Funcion que calcula los errores de un modelo\n",
    "def errors(model,x,y,xt,yt): \n",
    "    yhat = model.predict(x)\n",
    "    yhat_test = model.predict(xt)\n",
    "    error = mis_class(yhat,y)\n",
    "    terror = mis_class(yhat_test,yt)\n",
    "    return error, terror\n",
    "def mis_class(yhat,y):\n",
    "    miss = [ 1 if(i != j) else 0  \n",
    "            for i,j in zip(yhat,y)]\n",
    "    return np.mean(miss) "
   ]
  },
  {
   "cell_type": "markdown",
   "metadata": {},
   "source": [
    "La función presentada anteriormente ($classification\\_report()$) calcula 4 métricas (precision, recall, f1-score, support). Cada métrica es calculada de forma independiente para cada clase, donde el significado de <b> precision</b> es una tasa/razón entre los <i>true positive</i> y el resto de los positivos (<i>true positive + false positive</i>), en otras palabras representa la habilidad del clasificador en no etiquetar como clase \"interna\" a una clase \"externa\". El significado de <b>recall</b> tasa/razón entre los <i>true positive</i> y el resto de la clase \"interna\" (<i> true positive + false negative</i>), esto representa la habilidad del clasificador en no dejar fuera los ejemplos de la clase propia, es decir, etiquetar correctamente los de la clase \"interna\" . <b>f1-score</b> realiza un promedio harmónico/ponderado entre las métricas de precision y recall. Finalmente <b>support</b> entrega la cantidad de ejemplos asignadas a cada clase."
   ]
  },
  {
   "cell_type": "code",
   "execution_count": 46,
   "metadata": {
    "collapsed": false,
    "scrolled": true
   },
   "outputs": [
    {
     "name": "stdout",
     "output_type": "stream",
     "text": [
      "WITHOUT STOP WORDS and WITH LEMM\n",
      "Training Accuracy BernoulliNB: 0.955262\n",
      "Test Accuracy BernoulliNB: 0.748663\n",
      "Detailed Analysis Testing Results ...\n",
      "             precision    recall  f1-score   support\n",
      "\n",
      "          +       0.76      0.74      0.75      1803\n",
      "          -       0.74      0.76      0.75      1751\n",
      "\n",
      "avg / total       0.75      0.75      0.75      3554\n",
      "\n",
      "Error (Misclassification) Training: 0.044738\n",
      "Error (Misclassification) Test: 0.251266\n",
      "WITH LEMMATISATION\n",
      "Training Accuracy BernoulliNB: 0.958638\n",
      "Test Accuracy BernoulliNB: 0.738531\n",
      "Detailed Analysis Testing Results ...\n",
      "             precision    recall  f1-score   support\n",
      "\n",
      "          +       0.75      0.73      0.74      1803\n",
      "          -       0.73      0.75      0.74      1751\n",
      "\n",
      "avg / total       0.74      0.74      0.74      3554\n",
      "\n",
      "Error (Misclassification) Training: 0.041362\n",
      "Error (Misclassification) Test: 0.261396\n",
      "WITH STEMMING\n",
      "Training Accuracy BernoulliNB: 0.942881\n",
      "Test Accuracy BernoulliNB: 0.747819\n",
      "Detailed Analysis Testing Results ...\n",
      "             precision    recall  f1-score   support\n",
      "\n",
      "          +       0.76      0.74      0.75      1803\n",
      "          -       0.74      0.75      0.75      1751\n",
      "\n",
      "avg / total       0.75      0.75      0.75      3554\n",
      "\n",
      "Error (Misclassification) Training: 0.057119\n",
      "Error (Misclassification) Test: 0.252110\n"
     ]
    }
   ],
   "source": [
    "from sklearn.naive_bayes import BernoulliNB\n",
    "def do_NAIVE_BAYES(x,y,xt,yt):\n",
    "    model = BernoulliNB()\n",
    "    model = model.fit(x, y)\n",
    "    score_the_model(model,x,y,xt,yt,\"BernoulliNB\")\n",
    "    return model\n",
    "errors_bayes = []\n",
    "accuracy_bayes = []\n",
    "\n",
    "tipos = [\"normal\",\"lem\",\"stem\"]\n",
    "descripcion = [\"WITHOUT STOP WORDS and WITH LEMM\", \"WITH LEMMATISATION\",\"WITH STEMMING\"]\n",
    "for (r,d) in zip(tipos,descripcion):\n",
    "    print d\n",
    "    features_train,labels_train,features_test,labels_test = representacion(r)\n",
    "    model=do_NAIVE_BAYES(features_train,labels_train,features_test,labels_test)\n",
    "    \n",
    "    #calculan y guardan los errores de entrenamiento y prueba\n",
    "    error,terror = errors(model,features_train,labels_train,features_test,labels_test)\n",
    "    errors_bayes.append([error,terror])\n",
    "    print \"Error (Misclassification) Training: %f\"%(error)\n",
    "    print \"Error (Misclassification) Test: %f\"%(terror)\n",
    "    \n",
    "    #valores de retornos agregados por datos requeridos en grafico\n",
    "    acc = model.score(features_test,labels_test)\n",
    "    acct = model.score(features_train,labels_train)\n",
    "    prec_rec = precision_recall_fscore_support(labels_test,model.predict(features_test))[:1]\n",
    "    datos = [acc,acct] + list(prec_rec[0])\n",
    "    accuracy_bayes.append(datos)"
   ]
  },
  {
   "cell_type": "markdown",
   "metadata": {},
   "source": [
    "En la celda anterior se ajustó un modelo <b>Naive Bayes</b>, el cual presenta sus desempeños en los distintos sets, además de información extra acerca del desempeño en cada clase. Agregando al final el error con función de pérdida <i> misclassification</i> para cada set.\n",
    "\n",
    "<i>stemming</i> tiene un desempeño mejor en el test set, entregando una precisión del <b>74,78 %</b>, por otro lado <i>lemmatisation</i> por otro lado se comporta mejor en el training set. En base a la información detallada sobre resultados en el test set se puede ver que <i>stemming</i> tiene un mejor comportamiento, esto es explicado ya que como se vio anteriormente este proceso realiza un corte a la palabra mas brusco, reduciéndola más que <i>lemma</i>, dejando información más significativa en cuanto al léxico (mas \"pura\"). El proceso de <i>lemmatisation</i> al dejar terminaciones como -ing, -ed, produce un sesgo sobre los datos, ya que si está presente una palabra en el training set como \"walking\", el modelo la asignará distinta a la palabra \"walk\", perdiéndo la información de que estas palabras significan lo mismo. Para el caso de <i>stemming</i> a estas palabras le asignará la misma probabilidad ya que son consideradas la misma (\"walk\"). \n",
    "\n",
    "Para el caso de filtrar <b>stopwords</b> en el proceso del modelo este presenta un mejor desempeño sobre el test set, esto es contradictorio a lo esperado ya que se espera que al eliminar estas palabras que no entregan información el modelo pueda predecir con mejor exactitud. Esta contradicción se puede explicar por los supuestos de naive bayes, ya que la probabilidad de clasificar una frase, es la probabilidad independiente de cada una de las palabras presentes en la frase, con esto en mente se pudo tener el caso que palabras sin información como \"and\", \"of\", \"the\", \"or\" ayudan a clasificar correctamente la frase, siendo algo totalmente aleatorio dependiendo del training set, ya que esas palabras podrían ir en cualquier contexto, positivas o negativas."
   ]
  },
  {
   "cell_type": "code",
   "execution_count": 49,
   "metadata": {
    "collapsed": false
   },
   "outputs": [
    {
     "name": "stdout",
     "output_type": "stream",
     "text": [
      "[ 0.00749361  0.99250639] a movie that at its best doesn't just make the most out of its characters' flaws but insists on the virtue of imperfection .\n",
      "\n",
      "[  1.37058436e-05   9.99986294e-01] a quietly reflective and melancholy new zealand film about an eventful summer in a 13-year-old girl's life .\n",
      "\n",
      "[ 0.99559512  0.00440488] the movie's plot is almost entirely witless and inane , carrying every gag two or three times beyond its limit to sustain a laugh .\n",
      "\n",
      "[ 0.0132626  0.9867374] the urban landscapes are detailed down to the signs on the kiosks , and the color palette , with lots of somber blues and pinks , is dreamy and evocative .\n",
      "\n",
      "[ 0.82094699  0.17905301] barry sonnenfeld owes frank the pug big time\n",
      "\n",
      "[ 0.05083827  0.94916173] the film is filled with humorous observations about the general absurdity of modern life as seen through the eyes outsiders , but deftly manages to avoid many of the condescending stereotypes that so often plague films dealing with the mentally ill .\n",
      "\n",
      "[ 0.97769163  0.02230837] the master of disguise represents adam sandler's latest attempt to dumb down the universe .\n",
      "\n",
      "[ 0.11342201  0.88657799] ice cube holds the film together with an engaging and warm performance . . .\n",
      "\n",
      "[ 0.02039388  0.97960612] children may not understand everything that happens -- i'm not sure even miyazaki himself does -- but they will almost certainly be fascinated , and undoubtedly delighted .\n",
      "\n",
      "[  2.36895420e-05   9.99976310e-01] sandra nettelbeck beautifully orchestrates the transformation of the chilly , neurotic , and self-absorbed martha as her heart begins to open .\n",
      "\n",
      "[ 0.29698359  0.70301641] equilibrium is what george orwell might have imagined had today's mood-altering drug therapy been envisioned by chemists in 1949 .\n",
      "\n",
      "[ 0.3345653  0.6654347] full of surprises .\n",
      "\n",
      "[ 0.82730079  0.17269921] workmanlike , maybe , but still a film with all the elements that made the other three great , scary times at the movies .\n",
      "\n",
      "[ 0.96215088  0.03784912] . . . pays tribute to heroes the way julia roberts hands out awards--with phony humility barely camouflaging grotesque narcissism .\n",
      "\n",
      "[ 0.04672814  0.95327186] although frailty fits into a classic genre , in its script and execution it is a remarkably original work .\n",
      "\n"
     ]
    }
   ],
   "source": [
    "import random\n",
    "test_pred = model.predict_proba(features_test)\n",
    "spl = random.sample(xrange(len(test_pred)), 15)\n",
    "for text, sentiment in zip(test_df.Text[spl], test_pred[spl]):\n",
    "    print sentiment, text"
   ]
  },
  {
   "cell_type": "markdown",
   "metadata": {},
   "source": [
    "Se puede ver que existen ciertas opiniones que solo relatan hechos, sin tener una inclinación positiva o negativa a las cuales generalmente se les asigna una probabilidad equitativa entre las etiquetas de las clases. En otros casos se muestra una clara inclinación hacia una opinion positiva o negativa y el clasificador asigna la probabilidad correspondiente. En general el clasificador Naive Bayes asigna probabilidades correctas a cada opinión, basándose en el producto independiente de la probabilidad de cada palabra que aparece en la opinión"
   ]
  },
  {
   "cell_type": "code",
   "execution_count": 32,
   "metadata": {
    "collapsed": false
   },
   "outputs": [
    {
     "name": "stdout",
     "output_type": "stream",
     "text": [
      "WITHOUT STOP WORDS and WITH LEMM\n",
      "Training Accuracy MULTINOMIAL: 0.955543\n",
      "Test Accuracy MULTINOMIAL: 0.747537\n",
      "Detailed Analysis Testing Results ...\n",
      "             precision    recall  f1-score   support\n",
      "\n",
      "          +       0.75      0.75      0.75      1803\n",
      "          -       0.74      0.74      0.74      1751\n",
      "\n",
      "avg / total       0.75      0.75      0.75      3554\n",
      "\n",
      "Error (Misclassification) Training: 0.044457\n",
      "Error (Misclassification) Test: 0.252392\n",
      "WITH LEMMATISATION\n",
      "Training Accuracy MULTINOMIAL: 0.959482\n",
      "Test Accuracy MULTINOMIAL: 0.740782\n",
      "Detailed Analysis Testing Results ...\n",
      "             precision    recall  f1-score   support\n",
      "\n",
      "          +       0.75      0.73      0.74      1803\n",
      "          -       0.73      0.75      0.74      1751\n",
      "\n",
      "avg / total       0.74      0.74      0.74      3554\n",
      "\n",
      "Error (Misclassification) Training: 0.040518\n",
      "Error (Misclassification) Test: 0.259145\n",
      "WITH STEMMING\n",
      "Training Accuracy MULTINOMIAL: 0.942319\n",
      "Test Accuracy MULTINOMIAL: 0.749789\n",
      "Detailed Analysis Testing Results ...\n",
      "             precision    recall  f1-score   support\n",
      "\n",
      "          +       0.76      0.75      0.75      1803\n",
      "          -       0.74      0.75      0.75      1751\n",
      "\n",
      "avg / total       0.75      0.75      0.75      3554\n",
      "\n",
      "Error (Misclassification) Training: 0.057681\n",
      "Error (Misclassification) Test: 0.250141\n"
     ]
    }
   ],
   "source": [
    "from sklearn.naive_bayes import MultinomialNB\n",
    "def do_MULTINOMIAL(x,y,xt,yt):\n",
    "    model = MultinomialNB()\n",
    "    model = model.fit(x, y)\n",
    "    score_the_model(model,x,y,xt,yt,\"MULTINOMIAL\")\n",
    "    return model\n",
    "errors_multi= []\n",
    "accuracy_multi = []\n",
    "\n",
    "tipos = [\"normal\",\"lem\",\"stem\"]\n",
    "descripcion = [\"WITHOUT STOP WORDS and WITH LEMM\", \"WITH LEMMATISATION\",\"WITH STEMMING\"]\n",
    "for (r,d) in zip(tipos,descripcion):\n",
    "    print d\n",
    "    features_train,labels_train,features_test,labels_test = representacion(r) #representacion\n",
    "    model=do_MULTINOMIAL(features_train,labels_train,features_test,labels_test) #se ejecuta el modelo\n",
    "    \n",
    "    #calculan y guardan los errores de entrenamiento y prueba\n",
    "    error,terror = errors(model,features_train,labels_train,features_test,labels_test)\n",
    "    errors_multi.append([error,terror])\n",
    "    print \"Error (Misclassification) Training: %f\"%(error)\n",
    "    print \"Error (Misclassification) Test: %f\"%(terror)\n",
    "    \n",
    "    #valores de retornos agregados por datos requeridos en grafico\n",
    "    acc = model.score(features_test,labels_test)\n",
    "    acct = model.score(features_train,labels_train)\n",
    "    prec_rec = precision_recall_fscore_support(labels_test,model.predict(features_test))[:1]\n",
    "    datos = [acc,acct] + list(prec_rec[0])\n",
    "    accuracy_multi.append(datos)"
   ]
  },
  {
   "cell_type": "markdown",
   "metadata": {},
   "source": [
    "En la celda anterior se ajustó un modelo <b>Naive Bayes Multinomial</b>, el cual presenta sus desempeños en los distintos sets, además de información extra acerca del desempeño en cada clase. Agregando al final el error con función de pérdida misclassification para cada set.\n",
    "\n",
    "<i>stemming</i> tiene un desempeño mejor en el test set entregando una precisión del <b>74,98 %</b>, <i>lemmatisation</i> por otro lado se comporta mejor en el training set, similar al caso de Naive Bayes discutido anteriormente. Se presentan los mismos argumentos del porqué <i>stemming</i> se comporta mejor sobre el test set, debido al reduce de las palabras a una estructura más pura. <i>lemma</i> se comporta mejor sobre el training set debido a que este set está sesgado hacia la información con las palabras reducidas según <i>lemma</i>.\n",
    "\n",
    "Para este caso el filtrar el eliminado de <b>stopwords</b> también produce un efecto contradictorio a lo esperado, como es el caso de Naive Bayes. Por lo que se piensa que es un suceso casual producido por el training set."
   ]
  },
  {
   "cell_type": "code",
   "execution_count": 18,
   "metadata": {
    "collapsed": false
   },
   "outputs": [
    {
     "name": "stdout",
     "output_type": "stream",
     "text": [
      "[ 0.32421864  0.67578136] this franchise has not spawned a single good film . the crap continues .\n",
      "\n",
      "[ 0.90392584  0.09607416] comes across as a fairly weak retooling .\n",
      "\n",
      "[ 0.64892822  0.35107178] flavorful and romantic , you could call this how martha got her groove back -- assuming , that is , she ever had one to begin with .\n",
      "\n",
      "[ 0.95974086  0.04025914] if swimfan does catch on , it may be because teens are looking for something to make them laugh .\n",
      "\n",
      "[ 0.55947259  0.44052741] the film grows on you . and how .\n",
      "\n",
      "[ 0.92402891  0.07597109] that zhang would make such a strainingly cute film -- with a blind orphan at its center , no less -- indicates where his ambitions have wandered .\n",
      "\n",
      "[ 0.57232973  0.42767027] these people wouldn't know subtle characterization if it put on a giant furry monster costume and then gave them a lapdance .\n",
      "\n",
      "[ 0.52960649  0.47039351] summer's far too fleeting to squander on offal like this .\n",
      "\n",
      "[ 0.58510856  0.41489144] it's so underwritten that you can't figure out just where the other characters , including ana's father and grandfather , come down on the issue of ana's future .\n",
      "\n",
      "[ 0.87382389  0.12617611] without a strong script and energetic acting , dogma films can produce the same sleep-inducing effects as watching your neighbor's home videos .\n",
      "\n",
      "[ 0.84561012  0.15438988] to get at the root psychology of this film would require many sessions on the couch of dr . freud .\n",
      "\n",
      "[ 0.39817709  0.60182291] go see it and enjoy .\n",
      "\n",
      "[ 0.04881163  0.95118837] 'frailty \" starts out like a typical bible killer story , but it turns out to be significantly different ( and better ) than most films with this theme .\n",
      "\n",
      "[ 0.47779644  0.52220356] this is a harrowing movie about how parents know where all the buttons are , and how to push them .\n",
      "\n",
      "[ 0.05934057  0.94065943] stands as a document of what it felt like to be a new yorker -- or , really , to be a human being -- in the weeks after 9/11 .\n",
      "\n"
     ]
    }
   ],
   "source": [
    "test_pred = model.predict_proba(features_test)\n",
    "spl = random.sample(xrange(len(test_pred)), 15)\n",
    "for text, sentiment in zip(test_df.Text[spl], test_pred[spl]):\n",
    "    print sentiment, text"
   ]
  },
  {
   "cell_type": "markdown",
   "metadata": {},
   "source": [
    "ver lo de arriba iwal"
   ]
  },
  {
   "cell_type": "code",
   "execution_count": 33,
   "metadata": {
    "collapsed": false
   },
   "outputs": [
    {
     "name": "stdout",
     "output_type": "stream",
     "text": [
      "EFFECT OF C IN THE MODEL\n",
      "Usando C= 0.010000\n",
      "Training Accuracy LOGISTIC: 0.784468\n",
      "Test Accuracy LOGISTIC: 0.678863\n",
      "Detailed Analysis Testing Results ...\n",
      "             precision    recall  f1-score   support\n",
      "\n",
      "          +       0.67      0.73      0.70      1803\n",
      "          -       0.69      0.63      0.66      1751\n",
      "\n",
      "avg / total       0.68      0.68      0.68      3554\n",
      "\n",
      "Error (Misclassification) Training: 0.215532\n",
      "Error (Misclassification) Test: 0.321047\n",
      "Usando C= 0.100000\n",
      "Training Accuracy LOGISTIC: 0.892234\n",
      "Test Accuracy LOGISTIC: 0.719111\n",
      "Detailed Analysis Testing Results ...\n",
      "             precision    recall  f1-score   support\n",
      "\n",
      "          +       0.72      0.72      0.72      1803\n",
      "          -       0.72      0.71      0.71      1751\n",
      "\n",
      "avg / total       0.72      0.72      0.72      3554\n",
      "\n",
      "Error (Misclassification) Training: 0.107766\n",
      "Error (Misclassification) Test: 0.280810\n",
      "Usando C= 1.000000\n",
      "Training Accuracy LOGISTIC: 0.989589\n",
      "Test Accuracy LOGISTIC: 0.721362\n",
      "Detailed Analysis Testing Results ...\n",
      "             precision    recall  f1-score   support\n",
      "\n",
      "          +       0.73      0.72      0.72      1803\n",
      "          -       0.72      0.72      0.72      1751\n",
      "\n",
      "avg / total       0.72      0.72      0.72      3554\n",
      "\n",
      "Error (Misclassification) Training: 0.010411\n",
      "Error (Misclassification) Test: 0.278559\n",
      "Usando C= 1.000000\n",
      "Training Accuracy LOGISTIC: 0.989589\n",
      "Test Accuracy LOGISTIC: 0.721362\n",
      "Detailed Analysis Testing Results ...\n",
      "             precision    recall  f1-score   support\n",
      "\n",
      "          +       0.73      0.72      0.72      1803\n",
      "          -       0.72      0.72      0.72      1751\n",
      "\n",
      "avg / total       0.72      0.72      0.72      3554\n",
      "\n",
      "Error (Misclassification) Training: 0.010411\n",
      "Error (Misclassification) Test: 0.278559\n",
      "Usando C= 10.000000\n",
      "Training Accuracy LOGISTIC: 1.000000\n",
      "Test Accuracy LOGISTIC: 0.718548\n",
      "Detailed Analysis Testing Results ...\n",
      "             precision    recall  f1-score   support\n",
      "\n",
      "          +       0.73      0.72      0.72      1803\n",
      "          -       0.71      0.72      0.72      1751\n",
      "\n",
      "avg / total       0.72      0.72      0.72      3554\n",
      "\n",
      "Error (Misclassification) Training: 0.000000\n",
      "Error (Misclassification) Test: 0.281373\n",
      "Usando C= 100.000000\n",
      "Training Accuracy LOGISTIC: 1.000000\n",
      "Test Accuracy LOGISTIC: 0.714044\n",
      "Detailed Analysis Testing Results ...\n",
      "             precision    recall  f1-score   support\n",
      "\n",
      "          +       0.72      0.71      0.72      1803\n",
      "          -       0.71      0.72      0.71      1751\n",
      "\n",
      "avg / total       0.71      0.71      0.71      3554\n",
      "\n",
      "Error (Misclassification) Training: 0.000000\n",
      "Error (Misclassification) Test: 0.285875\n",
      "Usando C= 1000.000000\n",
      "Training Accuracy LOGISTIC: 1.000000\n",
      "Test Accuracy LOGISTIC: 0.712356\n",
      "Detailed Analysis Testing Results ...\n",
      "             precision    recall  f1-score   support\n",
      "\n",
      "          +       0.72      0.71      0.71      1803\n",
      "          -       0.70      0.72      0.71      1751\n",
      "\n",
      "avg / total       0.71      0.71      0.71      3554\n",
      "\n",
      "Error (Misclassification) Training: 0.000000\n",
      "Error (Misclassification) Test: 0.287563\n"
     ]
    }
   ],
   "source": [
    "from sklearn.linear_model import LogisticRegression\n",
    "def do_LOGIT(x,y,xt,yt):\n",
    "    start_t = time.time()\n",
    "    Cs = [0.01,0.1,1,1,10,100,1000]\n",
    "    for C in Cs:\n",
    "        print \"Usando C= %f\"%C\n",
    "        model = LogisticRegression(penalty='l2',C=C)\n",
    "        model = model.fit(x, y)\n",
    "        score_the_model(model,x,y,xt,yt,\"LOGISTIC\")\n",
    "        #Se calculan y muestran los errores\n",
    "        error,terror = errors(model,x,y,xt,yt)\n",
    "        print \"Error (Misclassification) Training: %f\"%(error)\n",
    "        print \"Error (Misclassification) Test: %f\"%(terror)\n",
    "print \"EFFECT OF C IN THE MODEL\"\n",
    "features_train,labels_train,features_test,labels_test = representacion(\"lem\")\n",
    "do_LOGIT(features_train,labels_train,features_test,labels_test)"
   ]
  },
  {
   "cell_type": "markdown",
   "metadata": {},
   "source": [
    "Para el caso anterior se ajusta un modelo de <b>Regresión Logística Regularizado</b>, donde recibe de parámetro un valor <i>C</i> el cual se analiza su efecto en el desempeño del modelo en el test set y en el training set. Este parámetro <i>C</i> representa el rango de la penalización del modelo a equivocarse sobre el conjunto del cual se entrena, es decir, el error sobre el. Para valores pequeños de <i>C</i> el modelo está permite bajos valores de penalización, por lo que el modelo es mas relajado en permitir un mayor error sobre el training set, mostrando esto en que el desempeño sobre el training set es el peor. Con un <i>C</i> muy bajo se tiene que el modelo pasa a ser muy relajado por lo que presenta un menor desempeño en el test set. \n",
    "Cuando <i>C</i> es mayor a 10, se pueden ver modelos no relajados, es decir con una mayor penalización sobre el error en el training set, por lo que el modelo se ajusta a este set produciendo un error de entrenamiento de 0 (desempeño 100%). Se puede visualizar esta transición en lo mostrado anteriormente, ya que a medida que aumenta el parámetro, el desempeño en el training set también."
   ]
  },
  {
   "cell_type": "code",
   "execution_count": 34,
   "metadata": {
    "collapsed": false
   },
   "outputs": [
    {
     "name": "stdout",
     "output_type": "stream",
     "text": [
      "WITHOUT STOP WORDS and WITH LEMM\n",
      "Training Accuracy LOGISTIC: 0.987901\n",
      "Test Accuracy LOGISTIC: 0.736279\n",
      "Detailed Analysis Testing Results ...\n",
      "             precision    recall  f1-score   support\n",
      "\n",
      "          +       0.74      0.73      0.74      1803\n",
      "          -       0.73      0.74      0.74      1751\n",
      "\n",
      "avg / total       0.74      0.74      0.74      3554\n",
      "\n",
      "Error (Misclassification) Training: 0.012099\n",
      "Error (Misclassification) Test: 0.263647\n",
      "WITH LEMMATISATION\n",
      "Training Accuracy LOGISTIC: 0.989589\n",
      "Test Accuracy LOGISTIC: 0.721362\n",
      "Detailed Analysis Testing Results ...\n",
      "             precision    recall  f1-score   support\n",
      "\n",
      "          +       0.73      0.72      0.72      1803\n",
      "          -       0.72      0.72      0.72      1751\n",
      "\n",
      "avg / total       0.72      0.72      0.72      3554\n",
      "\n",
      "Error (Misclassification) Training: 0.010411\n",
      "Error (Misclassification) Test: 0.278559\n",
      "WITH STEMMING\n",
      "Training Accuracy LOGISTIC: 0.981148\n",
      "Test Accuracy LOGISTIC: 0.735153\n",
      "Detailed Analysis Testing Results ...\n",
      "             precision    recall  f1-score   support\n",
      "\n",
      "          +       0.74      0.74      0.74      1803\n",
      "          -       0.73      0.73      0.73      1751\n",
      "\n",
      "avg / total       0.74      0.74      0.74      3554\n",
      "\n",
      "Error (Misclassification) Training: 0.018852\n",
      "Error (Misclassification) Test: 0.264772\n"
     ]
    }
   ],
   "source": [
    "#SEGUN LO DE ARRIBA SE ESCOGE C = 1\n",
    "from sklearn.linear_model import LogisticRegression\n",
    "def do_LOGIT_C(x,y,xt,yt,c=1):\n",
    "    start_t = time.time()\n",
    "    model = LogisticRegression(penalty='l2',C=c)\n",
    "    model = model.fit(x, y)\n",
    "    score_the_model(model,x,y,xt,yt,\"LOGISTIC\")\n",
    "    return model\n",
    "\n",
    "errors_logit = []\n",
    "accuracy_logit = []\n",
    "\n",
    "tipos = [\"normal\",\"lem\",\"stem\"]\n",
    "descripcion = [\"WITHOUT STOP WORDS and WITH LEMM\", \"WITH LEMMATISATION\",\"WITH STEMMING\"]\n",
    "for r, d in zip(tipos,descripcion): #for para mostrar el efecto de distintas representaciones\n",
    "    print d\n",
    "    features_train,labels_train,features_test,labels_test =  representacion(r)\n",
    "    model = do_LOGIT_C(features_train,labels_train,features_test,labels_test) #se ajusta un modelo LOGISTICO\n",
    "    \n",
    "    #calculan y guardan los errores de entrenamiento y prueba\n",
    "    error,terror = errors(model,features_train,labels_train,features_test,labels_test) \n",
    "    errors_logit.append([error,terror])\n",
    "    print \"Error (Misclassification) Training: %f\"%(error)\n",
    "    print \"Error (Misclassification) Test: %f\"%(terror)\n",
    "    \n",
    "    #valores de retornos agregados por datos requeridos en grafico\n",
    "    acc = model.score(features_test,labels_test)\n",
    "    acct = model.score(features_train,labels_train)\n",
    "    prec_rec = precision_recall_fscore_support(labels_test,model.predict(features_test))[:1] #solo pre y rec\n",
    "    datos = [acc,acct] + list(prec_rec[0])\n",
    "    accuracy_logit.append(datos)"
   ]
  },
  {
   "cell_type": "markdown",
   "metadata": {},
   "source": [
    "En la celda superior se ajustó un modelo de Regresión Lineal Regularizada con parámetro <i>C </i> igual a 1, mostrando el efecto de utilizar <i>stemming </i> o <i>lemmatisation</i> en la representación de los datos. Para esto se puede ver que la representación mediante <i>stemming</i> se comporta mejor sobre el test set, produciendo un buen desempeño en todas las métricas presentadas anteriormente (precision, recall, f1-score), además de presentar un desempeño sobre el test set de <b>73,51 %</b>. Esto se explica al igual que en los casos anteriores de Naive Bayes, debido a que este proceso es mejor ya que se trabaja con información pura (palabras en su tronco léxico).\n",
    "\n",
    "El filtrar el proceso de <b>stopwords</b> al igual que en los casos anteriores presenta un mejor comportamiendo sobre el test set, debido al mismo razonamiento de que es producido por que en este caso el training set genera una serie de probabilidades en las palabras que elimina el <b>stopwords</b> las cuales benefician al momento de ver el desempeño sobre el test set. "
   ]
  },
  {
   "cell_type": "code",
   "execution_count": 35,
   "metadata": {
    "collapsed": false
   },
   "outputs": [
    {
     "name": "stdout",
     "output_type": "stream",
     "text": [
      "EFFECT OF C IN THE MODEL\n",
      "El valor de C que se esta probando: 0.010000\n",
      "Training Accuracy SVM: 0.884637\n",
      "Test Accuracy SVM: 0.715170\n",
      "Detailed Analysis Testing Results ...\n",
      "             precision    recall  f1-score   support\n",
      "\n",
      "          +       0.72      0.72      0.72      1803\n",
      "          -       0.71      0.71      0.71      1751\n",
      "\n",
      "avg / total       0.72      0.72      0.72      3554\n",
      "\n",
      "El valor de C que se esta probando: 0.100000\n",
      "Training Accuracy SVM: 0.989589\n",
      "Test Accuracy SVM: 0.723614\n",
      "Detailed Analysis Testing Results ...\n",
      "             precision    recall  f1-score   support\n",
      "\n",
      "          +       0.73      0.72      0.73      1803\n",
      "          -       0.72      0.73      0.72      1751\n",
      "\n",
      "avg / total       0.72      0.72      0.72      3554\n",
      "\n",
      "El valor de C que se esta probando: 1.000000\n",
      "Training Accuracy SVM: 1.000000\n",
      "Test Accuracy SVM: 0.710667\n",
      "Detailed Analysis Testing Results ...\n",
      "             precision    recall  f1-score   support\n",
      "\n",
      "          +       0.72      0.70      0.71      1803\n",
      "          -       0.70      0.72      0.71      1751\n",
      "\n",
      "avg / total       0.71      0.71      0.71      3554\n",
      "\n",
      "El valor de C que se esta probando: 10.000000\n",
      "Training Accuracy SVM: 1.000000\n",
      "Test Accuracy SVM: 0.702786\n",
      "Detailed Analysis Testing Results ...\n",
      "             precision    recall  f1-score   support\n",
      "\n",
      "          +       0.71      0.69      0.70      1803\n",
      "          -       0.69      0.71      0.70      1751\n",
      "\n",
      "avg / total       0.70      0.70      0.70      3554\n",
      "\n",
      "El valor de C que se esta probando: 100.000000\n",
      "Training Accuracy SVM: 1.000000\n",
      "Test Accuracy SVM: 0.698565\n",
      "Detailed Analysis Testing Results ...\n",
      "             precision    recall  f1-score   support\n",
      "\n",
      "          +       0.71      0.69      0.70      1803\n",
      "          -       0.69      0.71      0.70      1751\n",
      "\n",
      "avg / total       0.70      0.70      0.70      3554\n",
      "\n",
      "El valor de C que se esta probando: 1000.000000\n",
      "Training Accuracy SVM: 1.000000\n",
      "Test Accuracy SVM: 0.697439\n",
      "Detailed Analysis Testing Results ...\n",
      "             precision    recall  f1-score   support\n",
      "\n",
      "          +       0.71      0.69      0.70      1803\n",
      "          -       0.69      0.70      0.70      1751\n",
      "\n",
      "avg / total       0.70      0.70      0.70      3554\n",
      "\n"
     ]
    }
   ],
   "source": [
    "from sklearn.svm import LinearSVC\n",
    "def do_SVM(x,y,xt,yt):\n",
    "    Cs = [0.01,0.1,1,10,100,1000]\n",
    "    for C in Cs:\n",
    "        print \"El valor de C que se esta probando: %f\"%C\n",
    "        model = LinearSVC(C=C)\n",
    "        model = model.fit(x, y)\n",
    "        score_the_model(model,x,y,xt,yt,\"SVM\")\n",
    "print \"EFFECT OF C IN THE MODEL\"\n",
    "features_train,labels_train,features_test,labels_test = representacion(\"lem\")\n",
    "do_SVM(features_train,labels_train,features_test,labels_test)"
   ]
  },
  {
   "cell_type": "markdown",
   "metadata": {
    "collapsed": true
   },
   "source": [
    "Para lo presentado en la celda anterior se tiene un modelo <b>SVM</b> el cual es ajustado al training set analizando su comportamiendo en base al parámetro de penalización <i>C</i>, donde este valor representa el error presente en el ajuste del modelo sobre el training set, en otras palabras, representa el grado de suavidad del modelo. Para <i>C</i> pequeños el modelo penaliza menos los errores sobre el ajuste en el trainng set, traduciendose en un modelo mas suave (</i>soft-margin</i>) el cual permite errores sobre los datos en los cuales se ajusta. Para <i>C</i> grande la penalización sobre el error en el conjunto con el cual se entrena es mayor, traduciéndose en un modelo mas estricto (<i>hard-margin</i>) sobre el training set.\n",
    "\n",
    "Para este dataset de opiniones sobre películas se puede ver el efecto esperado del parámetro <i>C</i> sobre el modelo <b>SVM</b>, donde con valores pequeños el desempeño sobre el training set es bajo comparado con otro valor de <i>C</i>. Para <i>C</i> mayor a 1 el modelo es de <i>hard-margin</i>, es decir es estricto sobre el training set, traduciéndose en un desempeño de 100% sobre este set y con un menor desempeño sobre el test set, produciéndo un claro <i>overfitting</i>."
   ]
  },
  {
   "cell_type": "code",
   "execution_count": 36,
   "metadata": {
    "collapsed": false,
    "scrolled": true
   },
   "outputs": [
    {
     "name": "stdout",
     "output_type": "stream",
     "text": [
      "WITHOUT STOP WORDS and WITH LEMM\n",
      "Training Accuracy SVM: 0.987901\n",
      "Test Accuracy SVM: 0.738249\n",
      "Detailed Analysis Testing Results ...\n",
      "             precision    recall  f1-score   support\n",
      "\n",
      "          +       0.75      0.73      0.74      1803\n",
      "          -       0.73      0.75      0.74      1751\n",
      "\n",
      "avg / total       0.74      0.74      0.74      3554\n",
      "\n",
      "Error (Misclassification) Training: 0.012099\n",
      "Error (Misclassification) Test: 0.261677\n",
      "WITH LEMMATISATION\n",
      "Training Accuracy SVM: 0.989589\n",
      "Test Accuracy SVM: 0.723614\n",
      "Detailed Analysis Testing Results ...\n",
      "             precision    recall  f1-score   support\n",
      "\n",
      "          +       0.73      0.72      0.73      1803\n",
      "          -       0.72      0.73      0.72      1751\n",
      "\n",
      "avg / total       0.72      0.72      0.72      3554\n",
      "\n",
      "Error (Misclassification) Training: 0.010411\n",
      "Error (Misclassification) Test: 0.276308\n",
      "WITH STEMMING\n",
      "Training Accuracy SVM: 0.981992\n",
      "Test Accuracy SVM: 0.731213\n",
      "Detailed Analysis Testing Results ...\n",
      "             precision    recall  f1-score   support\n",
      "\n",
      "          +       0.74      0.73      0.73      1803\n",
      "          -       0.73      0.73      0.73      1751\n",
      "\n",
      "avg / total       0.73      0.73      0.73      3554\n",
      "\n",
      "Error (Misclassification) Training: 0.018008\n",
      "Error (Misclassification) Test: 0.268711\n"
     ]
    }
   ],
   "source": [
    "#SEGUN LO DE ARRIBA SE ESCOGE C = 0.1\n",
    "from sklearn.svm import LinearSVC\n",
    "def do_SVM_C(x,y,xt,yt,c=0.1):\n",
    "    model = LinearSVC(C=c)\n",
    "    model = model.fit(x, y)\n",
    "    score_the_model(model,x,y,xt,yt,\"SVM\")\n",
    "    return model\n",
    "errors_svm = []\n",
    "accuracy_svm = []\n",
    "\n",
    "tipos = [\"normal\",\"lem\",\"stem\"]\n",
    "descripcion = [\"WITHOUT STOP WORDS and WITH LEMM\", \"WITH LEMMATISATION\",\"WITH STEMMING\"]\n",
    "for r, d in zip(tipos,descripcion): #for para mostrar el efecto de distintas representaciones\n",
    "    print d\n",
    "    features_train,labels_train,features_test,labels_test =  representacion(r)\n",
    "    model = do_SVM_C(features_train,labels_train,features_test,labels_test) #es ejecutado SVM retornando el modelo ajustado\n",
    "    \n",
    "    #calculan y guardan los errores de entrenamiento y prueba\n",
    "    error,terror = errors(model,features_train,labels_train,features_test,labels_test) \n",
    "    errors_svm.append([error,terror])\n",
    "    print \"Error (Misclassification) Training: %f\"%(error)\n",
    "    print \"Error (Misclassification) Test: %f\"%(terror)\n",
    "    \n",
    "    #valores de retornos agregados por datos requeridos en grafico\n",
    "    acc = model.score(features_test,labels_test)\n",
    "    acct = model.score(features_train,labels_train)\n",
    "    prec_rec = precision_recall_fscore_support(labels_test,model.predict(features_test))[:1]\n",
    "    datos = [acc,acct] + list(prec_rec[0])\n",
    "    accuracy_svm.append(datos)"
   ]
  },
  {
   "cell_type": "markdown",
   "metadata": {
    "collapsed": true
   },
   "source": [
    "En la celda superior se ajusta un modelo de <b>SVM</b> con parámetro <i>C</i> igual a 0.1 para ver el efecto de realizar distintas representaciones verbales sobre el dataset. Para el caso de la representación según <i>stemming</i> se tiene un mejor desempeño sobre el test set, entregando una precisión de <b>73,12%</b>, esto se atribuye a la misma explicación ya dada anteriormente con los otros modelos.\n",
    "\n",
    "Para el caso de filtrar <b>stopwords</b> en el proceso del modelo este presenta un mejor desempeño sobre el test set, caso contradictorio a lo esperado al igual que en los 3 modelos ya descritos anteriormente, esto deja claro que el training set tiene un sesgo a realizar un ajuste mejor sobre el test set cuando son utilizadas estas palabras que no entrengan información. Un ejemplo de este suceso podría presentarse que en el caso en que el conector \"and\" aparezca en una gran cantidad de opiniones <i>positivas</i>, esto ayudará a que el modelo prediga mejor sobre el test set, pero es un caso específico de los dataset."
   ]
  },
  {
   "cell_type": "code",
   "execution_count": 41,
   "metadata": {
    "collapsed": false
   },
   "outputs": [
    {
     "data": {
      "image/png": "[encoded data removed]",
      "text/plain": [
       "<matplotlib.figure.Figure at 0x7fb5d2b91390>"
      ]
     },
     "metadata": {},
     "output_type": "display_data"
    }
   ],
   "source": [
    "#Construir grafico comparativo.\n",
    "import matplotlib.pyplot as plt\n",
    "nostop = errors_bayes[0] + errors_multi[0] + errors_logit[0] + errors_svm[0]\n",
    "lem = errors_bayes[1] + errors_multi[1] + errors_logit[1] + errors_svm[1]\n",
    "stem = errors_bayes[2] + errors_multi[2] + errors_logit[2] + errors_svm[2]\n",
    "\n",
    "#PARA COMPARAR LOS EFECTOS DE STEM Y LEM\n",
    "colors = ['b','r','b','r','b','r','b','r']\n",
    "f, axarr = plt.subplots(2, 2, figsize=(12,8) )\n",
    "barlist = axarr[0, 0].bar(range(8), nostop, width  = 0.5, align = \"center\", color = colors)\n",
    "axarr[0, 0].set_title('Without stop words and lem')\n",
    "axarr[0, 0].set_xticks([0.5,2.5,4.5,6.5])\n",
    "axarr[0, 0].set_xticklabels(('Naive Bayes', 'Multinomial', 'Logistic','SVM'))\n",
    "axarr[0, 0].set_ylabel('Error')\n",
    "axarr[0, 0].legend(barlist, [\"Training\",\"Test\"], loc=\"center right\", fancybox= True)\n",
    "\n",
    "axarr[0, 1].bar(range(8), lem, width  = 0.5, align = \"center\", color = colors)\n",
    "axarr[0, 1].set_title('With lem')\n",
    "axarr[0, 1].set_xticks([0.5,2.5,4.5,6.5])\n",
    "axarr[0, 1].set_xticklabels(('Naive Bayes', 'Multinomial', 'Logistic','SVM'))\n",
    "axarr[0, 1].set_ylabel('Error')\n",
    "axarr[0, 1].legend(barlist, [\"Training\",\"Test\"], loc=\"center right\", fancybox= True)\n",
    "\n",
    "axarr[1, 0].bar(range(8), stem, width  = 0.5, align = \"center\", color = colors)\n",
    "axarr[1, 0].set_title('With stem')\n",
    "axarr[1, 0].set_xticks([0.5,2.5,4.5,6.5])\n",
    "axarr[1, 0].set_xticklabels(('Naive Bayes', 'Multinomial', 'Logistic','SVM'))\n",
    "axarr[1, 0].set_ylabel('Error')\n",
    "axarr[1, 0].legend(barlist, [\"Training\",\"Test\"],loc=\"center right\", fancybox= True)\n",
    "\n",
    "\n",
    "f.tight_layout() #separar los subplot\n",
    "plt.show()"
   ]
  },
  {
   "cell_type": "markdown",
   "metadata": {
    "collapsed": true
   },
   "source": [
    "En este item se presentan los gráficos que resumen el error según misclassification de todos los modelos ajustados sobre el training set del dataset de <b>Rotten Tomatoes</b>. Donde se asigna un error máximo cuando el modelo se equivoca en predecir una etiqueta, para este caso por ejemplo es cuando el modelo predice una etiqueta como <i>positiva</i> siendo que es <i>negativa</i>. Se puede ver que para el caso en que la representación según  <i>lemmatisation</i>  los modelos Logístico y SVM presentan un <i>overfitting</i>  ya que estos se ajustan mucho al training set, en esta representación el modelo que mejor se comporta presentando el menor error en el test set y con menor overfitting es el de <b>Naive Bayes</b>. \n",
    "\n",
    "Para el caso que se utiliza la representación según <i>stemming</i> los modelos Logístico y SVM también presentan este sobre-ajuste sobre el training set. El modelo que mejor se comporta sobre test set según esta representación es el <b>Multinomial</b>.\n",
    "\n",
    "Se puede observar que cuando se usa lematization <b>sin stopwords</b>, se obtiene un error levemente mas bajo, lo cual es contradictorio puesto que como bien se ha mencionado anteriormente, stopword elimina las palabras que no aportan significado a la hora de clasificar, por lo que no aplicar este procedimiento podría producir un sesgo significativo.\n",
    "Para este caso en específico, como no se aplica stopword, el sesgo que se produce justamente ayuda un poco a bajar el error de test, es decir, a clasificar correctamente. Esto se puede explicar ya que ciertas palabras sin significado en el training set, tales como conectores, estén más presentes en clases positivas o negativas segun sea el caso, por lo que considerar estas palabras ciertamente provoca una mejora en la clasificación. "
   ]
  },
  {
   "cell_type": "code",
   "execution_count": 44,
   "metadata": {
    "collapsed": false
   },
   "outputs": [
    {
     "data": {
      "image/png": "[encoded data removed]",
      "text/plain": [
       "<matplotlib.figure.Figure at 0x7fb5d1f36510>"
      ]
     },
     "metadata": {},
     "output_type": "display_data"
    }
   ],
   "source": [
    "import matplotlib.pyplot as plt\n",
    "#DECODIFAN LOS DATOS ALMACENADOS EN LAS CELDAS ANTERIORES\n",
    "nostop_ac = accuracy_bayes[0] + accuracy_multi[0] + accuracy_logit[0] + accuracy_svm[0]\n",
    "lem_ac = [accuracy_bayes[1]] + [accuracy_multi[1]] + [accuracy_logit[1]] + [accuracy_svm[1]]\n",
    "stem_ac = [accuracy_bayes[2]] + [accuracy_multi[2]] + [accuracy_logit[2]] + [accuracy_svm[2]]    \n",
    "\n",
    "precision = []\n",
    "recall = []\n",
    "accuracy_lem = []\n",
    "accuracy_stem = []\n",
    "for lem,stem in zip(lem_ac,stem_ac):\n",
    "    accuracy_lem += lem[:2]  \n",
    "    accuracy_stem += stem[:2]\n",
    "    precision += [lem[2]]+[stem[2]] \n",
    "    recall+= [lem[3]]+[stem[3]] \n",
    "    \n",
    "#PARA COMPARAR PRECISION Y RECALL\n",
    "f, axarr = plt.subplots(2, 2, figsize=(12,10) )\n",
    "colors = ['#0B9014','#D20BD2']*4\n",
    "barlist = axarr[0, 0].bar(range(8), precision, width  = 0.5, align = \"center\", color = colors)\n",
    "axarr[0, 0].set_title('Comparison of metric precision in differents models')\n",
    "axarr[0, 0].set_xticks([0.5,2.5,4.5,6.5])\n",
    "axarr[0, 0].set_xticklabels(('Naive Bayes', 'Multinomial', 'Logistic','SVM'))\n",
    "axarr[0, 0].set_ylabel('precision')\n",
    "axarr[0, 0].legend(barlist, [\"Lemmatisation\",\"Stemming\"],loc=\"center right\", fancybox= True)\n",
    "\n",
    "axarr[0, 1].bar(range(8), recall, width  = 0.5, align = \"center\", color = colors)\n",
    "axarr[0, 1].set_title('Comparison of metric recall in diferrents models')\n",
    "axarr[0, 1].set_xticks([0.5,2.5,4.5,6.5])\n",
    "axarr[0, 1].set_xticklabels(('Naive Bayes', 'Multinomial', 'Logistic','SVM'))\n",
    "axarr[0, 1].set_ylabel('recall')\n",
    "axarr[0, 1].legend(barlist, [\"Lemmatisation\",\"Stemming\"],loc=\"center right\", fancybox= True)\n",
    "\n",
    "#PARA COMPARAR LOS EFECTOS DE STEM Y LEM\n",
    "colors = ['#014105','#6BB970']*4\n",
    "barlist = axarr[1, 0].bar(range(8), accuracy_lem, width  = 0.5, align = \"center\", color = colors)\n",
    "axarr[1, 0].set_title('Representation by Lemmatisation')\n",
    "axarr[1, 0].set_xticks([0.5,2.5,4.5,6.5])\n",
    "axarr[1, 0].set_xticklabels(('Naive Bayes', 'Multinomial', 'Logistic','SVM'))\n",
    "axarr[1, 0].set_ylabel('Accuracy')\n",
    "axarr[1, 0].legend(barlist, [\"Test\",\"Training\"], loc=\"center right\", fancybox= True)\n",
    "\n",
    "colors = ['#520052','#FF3CFF']*4\n",
    "barlist = axarr[1, 1].bar(range(8), accuracy_stem, width  = 0.5, align = \"center\", color = colors)\n",
    "axarr[1, 1].set_title('Representation by Stemming')\n",
    "axarr[1, 1].set_xticks([0.5,2.5,4.5,6.5])\n",
    "axarr[1, 1].set_xticklabels(('Naive Bayes', 'Multinomial', 'Logistic','SVM'))\n",
    "axarr[1, 1].set_ylabel('Accuracy')\n",
    "axarr[1, 1].legend(barlist, [\"Test\",\"Training\"],loc=\"center right\", fancybox= True)\n",
    "\n",
    "\n",
    "f.tight_layout() #separar los subplot\n",
    "plt.show()"
   ]
  },
  {
   "cell_type": "markdown",
   "metadata": {
    "collapsed": true
   },
   "source": [
    "### Precision y Recall\n",
    "Al analizar la métrica de <b>precision</b> se puede ver que en general ningún método sobresale sobre el resto, teniendo todos un comportamiento similar con la representación mediante <i>lemmatisation</i> y <i>stemming</i>. Como la métrica precision significa el no etiquetar incorrectamente ejemplos que no son pertenecientes a la clase, se puede ver que esto no es fuertemente dependiente de la representación con la cual se trabaje y tampoco del modelo con el cual se ajusten los datos. Se puede ver que el modelo que tiene mejor <i>precision</i> es el <b>Multinomial</b> con representación mediante <i>stemming</i>.\n",
    "\n",
    "Al analizar la métrica de <b>recall</b> se puede ver al mismo caso que en el gráfico comentado anteriormente ya que ningún método sobresale sobre el resto. Como la métrica recall significa el no etiquetar incorrectamente ejemplos que so pertenecientes a la clase, se puede ver que esto no es fuertemente dependiente de la representación con la cual se trabaje y tampoco del modelo con el cual se ajusten los datos. El modelo que presenta un mejor valor en <i>recall</i> es el <b>Multinomial</b> con representación mediante <i>stemming</i>. Estos gráficos los cuales presentan métricas de desempeño positivo, muestran que en ningún caso la representación mediante <i>lemmatisation</i> logra un mayor desempeño.\n",
    "\n",
    "### Lemmatisation y Stemming\n",
    "Al analizar la <b>accuracy</b> (precisión) de los distintos modelos mediante las distintas representaciones, se puede ver que <i>lemmatisation</i> ofrece valores mas altos en la precisión sobre el training set, lo cual en este caso se traduce en un <i>overfitting</i>. La representación mediante <i>stemming</i> posee un comportamiento mejor, ya que los valores de la precisión sobre el test set  son mayores y estos producen un menor <i>overfitting</i> que el caso con <i>lemmatisation</i>.  Se puede concluir en base a los análisis anteriores que la representación mediante <i>stemming</i> es la que mejor se comporta para este dataset, gracias a su filtrado mas estricto permitiendo que palabras que significan lo mismo se reduzcan al mismo tronco léxico.\n",
    "\n",
    "\n",
    "Se puede ver que en general los mejores clasificadores para este dataset son los basados en <b>Bayes</b> (Naive Bayes y Naive Bayes Multinomial)."
   ]
  }
 ],
 "metadata": {
  "kernelspec": {
   "display_name": "Python 2",
   "language": "python",
   "name": "python2"
  },
  "language_info": {
   "codemirror_mode": {
    "name": "ipython",
    "version": 2
   },
   "file_extension": ".py",
   "mimetype": "text/x-python",
   "name": "python",
   "nbconvert_exporter": "python",
   "pygments_lexer": "ipython2",
   "version": "2.7.9"
  }
 },
 "nbformat": 4,
 "nbformat_minor": 1
}
