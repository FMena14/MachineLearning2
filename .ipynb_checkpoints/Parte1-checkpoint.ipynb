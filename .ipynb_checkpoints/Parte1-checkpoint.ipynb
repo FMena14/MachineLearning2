{
 "cells": [
  {
   "cell_type": "code",
   "execution_count": 1,
   "metadata": {
    "collapsed": false
   },
   "outputs": [],
   "source": [
    "import urllib\n",
    "import pandas as pd\n",
    "train_data_url = \"http://statweb.stanford.edu/~tibs/ElemStatLearn/datasets/vowel.train\"\n",
    "test_data_url = \"http://statweb.stanford.edu/~tibs/ElemStatLearn/datasets/vowel.test\"\n",
    "train_data_f = urllib.urlretrieve(train_data_url, \"train_data.csv\")\n",
    "test_data_f = urllib.urlretrieve(test_data_url, \"test_data.csv\")\n",
    "train_df = pd.DataFrame.from_csv('train_data.csv',header=0,index_col=0)\n",
    "test_df = pd.DataFrame.from_csv('test_data.csv',header=0,index_col=0)"
   ]
  },
  {
   "cell_type": "code",
   "execution_count": 12,
   "metadata": {
    "collapsed": false
   },
   "outputs": [
    {
     "data": {
      "text/html": [
       "<div style=\"max-height:1000px;max-width:1500px;overflow:auto;\">\n",
       "<table border=\"1\" class=\"dataframe\">\n",
       "  <thead>\n",
       "    <tr style=\"text-align: right;\">\n",
       "      <th></th>\n",
       "      <th>y</th>\n",
       "      <th>x.1</th>\n",
       "      <th>x.2</th>\n",
       "      <th>x.3</th>\n",
       "      <th>x.4</th>\n",
       "      <th>x.5</th>\n",
       "      <th>x.6</th>\n",
       "      <th>x.7</th>\n",
       "      <th>x.8</th>\n",
       "      <th>x.9</th>\n",
       "      <th>x.10</th>\n",
       "    </tr>\n",
       "    <tr>\n",
       "      <th>row.names</th>\n",
       "      <th></th>\n",
       "      <th></th>\n",
       "      <th></th>\n",
       "      <th></th>\n",
       "      <th></th>\n",
       "      <th></th>\n",
       "      <th></th>\n",
       "      <th></th>\n",
       "      <th></th>\n",
       "      <th></th>\n",
       "      <th></th>\n",
       "    </tr>\n",
       "  </thead>\n",
       "  <tbody>\n",
       "    <tr>\n",
       "      <th>1</th>\n",
       "      <td> 1</td>\n",
       "      <td>-3.639</td>\n",
       "      <td> 0.418</td>\n",
       "      <td>-0.670</td>\n",
       "      <td> 1.779</td>\n",
       "      <td>-0.168</td>\n",
       "      <td> 1.627</td>\n",
       "      <td>-0.388</td>\n",
       "      <td> 0.529</td>\n",
       "      <td>-0.874</td>\n",
       "      <td>-0.814</td>\n",
       "    </tr>\n",
       "    <tr>\n",
       "      <th>2</th>\n",
       "      <td> 2</td>\n",
       "      <td>-3.327</td>\n",
       "      <td> 0.496</td>\n",
       "      <td>-0.694</td>\n",
       "      <td> 1.365</td>\n",
       "      <td>-0.265</td>\n",
       "      <td> 1.933</td>\n",
       "      <td>-0.363</td>\n",
       "      <td> 0.510</td>\n",
       "      <td>-0.621</td>\n",
       "      <td>-0.488</td>\n",
       "    </tr>\n",
       "    <tr>\n",
       "      <th>3</th>\n",
       "      <td> 3</td>\n",
       "      <td>-2.120</td>\n",
       "      <td> 0.894</td>\n",
       "      <td>-1.576</td>\n",
       "      <td> 0.147</td>\n",
       "      <td>-0.707</td>\n",
       "      <td> 1.559</td>\n",
       "      <td>-0.579</td>\n",
       "      <td> 0.676</td>\n",
       "      <td>-0.809</td>\n",
       "      <td>-0.049</td>\n",
       "    </tr>\n",
       "    <tr>\n",
       "      <th>4</th>\n",
       "      <td> 4</td>\n",
       "      <td>-2.287</td>\n",
       "      <td> 1.809</td>\n",
       "      <td>-1.498</td>\n",
       "      <td> 1.012</td>\n",
       "      <td>-1.053</td>\n",
       "      <td> 1.060</td>\n",
       "      <td>-0.567</td>\n",
       "      <td> 0.235</td>\n",
       "      <td>-0.091</td>\n",
       "      <td>-0.795</td>\n",
       "    </tr>\n",
       "    <tr>\n",
       "      <th>5</th>\n",
       "      <td> 5</td>\n",
       "      <td>-2.598</td>\n",
       "      <td> 1.938</td>\n",
       "      <td>-0.846</td>\n",
       "      <td> 1.062</td>\n",
       "      <td>-1.633</td>\n",
       "      <td> 0.764</td>\n",
       "      <td> 0.394</td>\n",
       "      <td>-0.150</td>\n",
       "      <td> 0.277</td>\n",
       "      <td>-0.396</td>\n",
       "    </tr>\n",
       "  </tbody>\n",
       "</table>\n",
       "</div>"
      ],
      "text/plain": [
       "           y    x.1    x.2    x.3    x.4    x.5    x.6    x.7    x.8    x.9  \\\n",
       "row.names                                                                     \n",
       "1          1 -3.639  0.418 -0.670  1.779 -0.168  1.627 -0.388  0.529 -0.874   \n",
       "2          2 -3.327  0.496 -0.694  1.365 -0.265  1.933 -0.363  0.510 -0.621   \n",
       "3          3 -2.120  0.894 -1.576  0.147 -0.707  1.559 -0.579  0.676 -0.809   \n",
       "4          4 -2.287  1.809 -1.498  1.012 -1.053  1.060 -0.567  0.235 -0.091   \n",
       "5          5 -2.598  1.938 -0.846  1.062 -1.633  0.764  0.394 -0.150  0.277   \n",
       "\n",
       "            x.10  \n",
       "row.names         \n",
       "1         -0.814  \n",
       "2         -0.488  \n",
       "3         -0.049  \n",
       "4         -0.795  \n",
       "5         -0.396  "
      ]
     },
     "execution_count": 12,
     "metadata": {},
     "output_type": "execute_result"
    }
   ],
   "source": [
    "train_df.head()"
   ]
  },
  {
   "cell_type": "code",
   "execution_count": 3,
   "metadata": {
    "collapsed": false
   },
   "outputs": [
    {
     "data": {
      "text/html": [
       "<div style=\"max-height:1000px;max-width:1500px;overflow:auto;\">\n",
       "<table border=\"1\" class=\"dataframe\">\n",
       "  <thead>\n",
       "    <tr style=\"text-align: right;\">\n",
       "      <th></th>\n",
       "      <th>y</th>\n",
       "      <th>x.1</th>\n",
       "      <th>x.2</th>\n",
       "      <th>x.3</th>\n",
       "      <th>x.4</th>\n",
       "      <th>x.5</th>\n",
       "      <th>x.6</th>\n",
       "      <th>x.7</th>\n",
       "      <th>x.8</th>\n",
       "      <th>x.9</th>\n",
       "      <th>x.10</th>\n",
       "    </tr>\n",
       "    <tr>\n",
       "      <th>row.names</th>\n",
       "      <th></th>\n",
       "      <th></th>\n",
       "      <th></th>\n",
       "      <th></th>\n",
       "      <th></th>\n",
       "      <th></th>\n",
       "      <th></th>\n",
       "      <th></th>\n",
       "      <th></th>\n",
       "      <th></th>\n",
       "      <th></th>\n",
       "    </tr>\n",
       "  </thead>\n",
       "  <tbody>\n",
       "    <tr>\n",
       "      <th>458</th>\n",
       "      <td>  7</td>\n",
       "      <td>-3.239</td>\n",
       "      <td> 3.083</td>\n",
       "      <td>-1.427</td>\n",
       "      <td>-0.202</td>\n",
       "      <td>-0.282</td>\n",
       "      <td> 1.421</td>\n",
       "      <td> 0.576</td>\n",
       "      <td> 0.068</td>\n",
       "      <td>-0.914</td>\n",
       "      <td> 0.147</td>\n",
       "    </tr>\n",
       "    <tr>\n",
       "      <th>459</th>\n",
       "      <td>  8</td>\n",
       "      <td>-3.753</td>\n",
       "      <td> 3.605</td>\n",
       "      <td>-0.899</td>\n",
       "      <td>-0.747</td>\n",
       "      <td>-0.401</td>\n",
       "      <td> 1.765</td>\n",
       "      <td> 0.620</td>\n",
       "      <td> 0.754</td>\n",
       "      <td>-0.835</td>\n",
       "      <td>-0.301</td>\n",
       "    </tr>\n",
       "    <tr>\n",
       "      <th>460</th>\n",
       "      <td>  9</td>\n",
       "      <td>-3.980</td>\n",
       "      <td> 2.459</td>\n",
       "      <td> 0.068</td>\n",
       "      <td> 0.023</td>\n",
       "      <td> 0.237</td>\n",
       "      <td> 1.029</td>\n",
       "      <td>-0.189</td>\n",
       "      <td> 0.521</td>\n",
       "      <td>-0.773</td>\n",
       "      <td>-0.500</td>\n",
       "    </tr>\n",
       "    <tr>\n",
       "      <th>461</th>\n",
       "      <td> 10</td>\n",
       "      <td>-4.264</td>\n",
       "      <td> 2.925</td>\n",
       "      <td> 0.065</td>\n",
       "      <td> 0.794</td>\n",
       "      <td> 0.323</td>\n",
       "      <td> 0.515</td>\n",
       "      <td>-1.282</td>\n",
       "      <td>-0.140</td>\n",
       "      <td>-0.863</td>\n",
       "      <td>-0.390</td>\n",
       "    </tr>\n",
       "    <tr>\n",
       "      <th>462</th>\n",
       "      <td> 11</td>\n",
       "      <td>-3.291</td>\n",
       "      <td> 2.324</td>\n",
       "      <td>-0.679</td>\n",
       "      <td> 0.285</td>\n",
       "      <td> 0.441</td>\n",
       "      <td> 0.557</td>\n",
       "      <td>-0.227</td>\n",
       "      <td> 0.115</td>\n",
       "      <td>-1.046</td>\n",
       "      <td> 0.697</td>\n",
       "    </tr>\n",
       "  </tbody>\n",
       "</table>\n",
       "</div>"
      ],
      "text/plain": [
       "            y    x.1    x.2    x.3    x.4    x.5    x.6    x.7    x.8    x.9  \\\n",
       "row.names                                                                      \n",
       "458         7 -3.239  3.083 -1.427 -0.202 -0.282  1.421  0.576  0.068 -0.914   \n",
       "459         8 -3.753  3.605 -0.899 -0.747 -0.401  1.765  0.620  0.754 -0.835   \n",
       "460         9 -3.980  2.459  0.068  0.023  0.237  1.029 -0.189  0.521 -0.773   \n",
       "461        10 -4.264  2.925  0.065  0.794  0.323  0.515 -1.282 -0.140 -0.863   \n",
       "462        11 -3.291  2.324 -0.679  0.285  0.441  0.557 -0.227  0.115 -1.046   \n",
       "\n",
       "            x.10  \n",
       "row.names         \n",
       "458        0.147  \n",
       "459       -0.301  \n",
       "460       -0.500  \n",
       "461       -0.390  \n",
       "462        0.697  "
      ]
     },
     "execution_count": 3,
     "metadata": {},
     "output_type": "execute_result"
    }
   ],
   "source": [
    "test_df.tail()"
   ]
  },
  {
   "cell_type": "code",
   "execution_count": 14,
   "metadata": {
    "collapsed": false
   },
   "outputs": [
    {
     "name": "stdout",
     "output_type": "stream",
     "text": [
      "TRAINING SET\n",
      "(528, 11)\n",
      "el numero de vocales promedio por clase es: 48.000000\n",
      "TEST SET\n",
      "(462, 11)\n",
      "el numero de vocales promedio por clase es: 42.000000\n"
     ]
    }
   ],
   "source": [
    "print \"TRAINING SET\"\n",
    "print train_df.shape\n",
    "#print train_df.describe()\n",
    "print \"el numero de vocales promedio por clase es: %f\"%(train_df.shape[0]/11.0)\n",
    "print \"TEST SET\"\n",
    "print test_df.shape\n",
    "#print test_df.info()\n",
    "print \"el numero de vocales promedio por clase es: %f\"%(test_df.shape[0]/11.0)"
   ]
  },
  {
   "cell_type": "code",
   "execution_count": 12,
   "metadata": {
    "collapsed": false
   },
   "outputs": [],
   "source": [
    "from sklearn.preprocessing import StandardScaler\n",
    "X = train_df.ix[:,'x.1':'x.10'].values\n",
    "y = train_df.ix[:,'y'].values\n",
    "X_std = StandardScaler().fit_transform(X)"
   ]
  },
  {
   "cell_type": "code",
   "execution_count": 144,
   "metadata": {
    "collapsed": false
   },
   "outputs": [],
   "source": [
    "from sklearn.decomposition import PCA\n",
    "from matplotlib import pyplot as plt\n",
    "import seaborn as sns\n",
    "import numpy as np\n",
    "\n",
    "sklearn_pca = PCA(n_components=2)\n",
    "Xred_pca = sklearn_pca.fit_transform(X_std)\n",
    "cmap = plt.cm.get_cmap(name = \"Spectral\")\n",
    "mclasses=(1,2,3,4,5,6,7,8,9)\n",
    "mcolors = [cmap(i) for i in np.linspace(0,1,10)]\n",
    "plt.figure(figsize=(12, 8))\n",
    "for lab, col in zip(mclasses,mcolors):\n",
    "    plt.scatter(Xred_pca[y==lab, 0],Xred_pca[y==lab, 1],label=lab,c=col)\n",
    "plt.xlabel('Principal Component 1')\n",
    "plt.ylabel('Principal Component 2')\n",
    "leg = plt.legend(loc='upper right', fancybox=True)\n",
    "plt.show()"
   ]
  },
  {
   "cell_type": "code",
   "execution_count": 145,
   "metadata": {
    "collapsed": false
   },
   "outputs": [],
   "source": [
    "from sklearn.lda import LDA\n",
    "sklearn_lda = LDA(n_components=2)\n",
    "Xred_lda = sklearn_lda.fit_transform(X_std,y)\n",
    "cmap = plt.cm.get_cmap(name = \"Spectral\")\n",
    "mclasses=(1,2,3,4,5,6,7,8,9)\n",
    "mcolors = [cmap(i) for i in np.linspace(0,1,10)]\n",
    "plt.figure(figsize=(12, 8))\n",
    "for lab, col in zip(mclasses,mcolors):\n",
    "    plt.scatter(Xred_lda[y==lab, 0],Xred_lda[y==lab, 1],label=lab,\n",
    "c=col)\n",
    "plt.xlabel('LDA/Fisher Direction 1')\n",
    "plt.ylabel('LDA/Fisher Direction 2')\n",
    "leg = plt.legend(loc='upper right', fancybox=True)\n",
    "plt.show()"
   ]
  },
  {
   "cell_type": "code",
   "execution_count": 24,
   "metadata": {
    "collapsed": false
   },
   "outputs": [
    {
     "name": "stdout",
     "output_type": "stream",
     "text": [
      "[ 1  2  3  4  5  6  7  8  9 10 11]\n"
     ]
    },
    {
     "ename": "AttributeError",
     "evalue": "'LDA' object has no attribute 'covariance_'",
     "output_type": "error",
     "traceback": [
      "\u001b[0;31m---------------------------------------------------------------------------\u001b[0m",
      "\u001b[0;31mAttributeError\u001b[0m                            Traceback (most recent call last)",
      "\u001b[0;32m<ipython-input-24-9a17cecb60c1>\u001b[0m in \u001b[0;36m<module>\u001b[0;34m()\u001b[0m\n\u001b[1;32m     14\u001b[0m     \u001b[0;32mprint\u001b[0m \u001b[0msklearn_pca\u001b[0m\u001b[0;34m.\u001b[0m\u001b[0mexplained_variance_\u001b[0m\u001b[0;34m\u001b[0m\u001b[0m\n\u001b[1;32m     15\u001b[0m \u001b[0;34m\u001b[0m\u001b[0m\n\u001b[0;32m---> 16\u001b[0;31m \u001b[0mchoose\u001b[0m\u001b[0;34m(\u001b[0m\u001b[0mX_std\u001b[0m\u001b[0;34m,\u001b[0m\u001b[0my\u001b[0m\u001b[0;34m)\u001b[0m\u001b[0;34m\u001b[0m\u001b[0m\n\u001b[0m",
      "\u001b[0;32m<ipython-input-24-9a17cecb60c1>\u001b[0m in \u001b[0;36mchoose\u001b[0;34m(X, y)\u001b[0m\n\u001b[1;32m      7\u001b[0m \u001b[0;34m\u001b[0m\u001b[0m\n\u001b[1;32m      8\u001b[0m     \u001b[0;32mprint\u001b[0m \u001b[0msklearn_lda\u001b[0m\u001b[0;34m.\u001b[0m\u001b[0mclasses_\u001b[0m\u001b[0;34m\u001b[0m\u001b[0m\n\u001b[0;32m----> 9\u001b[0;31m     \u001b[0;32mprint\u001b[0m \u001b[0msklearn_lda\u001b[0m\u001b[0;34m.\u001b[0m\u001b[0mcovariance_\u001b[0m\u001b[0;34m\u001b[0m\u001b[0m\n\u001b[0m\u001b[1;32m     10\u001b[0m \u001b[0;34m\u001b[0m\u001b[0m\n\u001b[1;32m     11\u001b[0m     \u001b[0msklearn_pca\u001b[0m \u001b[0;34m=\u001b[0m \u001b[0mPCA\u001b[0m\u001b[0;34m(\u001b[0m\u001b[0mn_components\u001b[0m\u001b[0;34m=\u001b[0m\u001b[0;36m2\u001b[0m\u001b[0;34m)\u001b[0m\u001b[0;34m\u001b[0m\u001b[0m\n",
      "\u001b[0;31mAttributeError\u001b[0m: 'LDA' object has no attribute 'covariance_'"
     ]
    }
   ],
   "source": [
    "from sklearn import cross_validation\n",
    "\n",
    "def choose(X,y):\n",
    "    \n",
    "    sklearn_lda = LDA(n_components=2)\n",
    "    sklearn_lda.fit_transform(X,y)\n",
    "    \n",
    "    print sklearn_lda.classes_\n",
    "    print sklearn_lda.covariance_\n",
    "    \n",
    "    sklearn_pca = PCA(n_components=2)\n",
    "    sklearn_pca.fit_transform(X,y)\n",
    "    \n",
    "    print sklearn_pca.explained_variance_\n",
    "    \n",
    "choose(X_std,y)"
   ]
  },
  {
   "cell_type": "code",
   "execution_count": 16,
   "metadata": {
    "collapsed": false
   },
   "outputs": [
    {
     "name": "stdout",
     "output_type": "stream",
     "text": [
      "El valor esperado para un elemento x segun el clasifiador basado en probabilidad es: 6.000000\n",
      "=======  ==============\n",
      "  Clase    Probabilidad\n",
      "=======  ==============\n",
      "      1       0.0909091\n",
      "      2       0.0909091\n",
      "      3       0.0909091\n",
      "      4       0.0909091\n",
      "      5       0.0909091\n",
      "      6       0.0909091\n",
      "      7       0.0909091\n",
      "      8       0.0909091\n",
      "      9       0.0909091\n",
      "     10       0.0909091\n",
      "     11       0.0909091\n",
      "=======  ==============\n"
     ]
    }
   ],
   "source": [
    "import numpy as np\n",
    "def clasificar(prob):\n",
    "    E = 0\n",
    "    for i in range(len(prob)):\n",
    "        E += (i+1)*prob[i]\n",
    "    return E\n",
    "\n",
    "frecuencia =  np.bincount(y) [1:]\n",
    "total = float(sum(frecuencia))\n",
    "prob = [i/total for i in frecuencia]\n",
    "\n",
    "\n",
    "print \"El valor esperado para un elemento x segun el clasificador basado en probabilidad es: %f\"%clasificar(prob)\n",
    "a = [range(1,12),prob]\n",
    "table =  zip(*a)\n",
    "\n",
    "from tabulate import tabulate\n",
    "print tabulate(table, headers=[\"Clase\",\"Probabilidad\"],  tablefmt=\"rst\")"
   ]
  },
  {
   "cell_type": "code",
   "execution_count": 19,
   "metadata": {
    "collapsed": false
   },
   "outputs": [
    {
     "name": "stdout",
     "output_type": "stream",
     "text": [
      "El score de LDA en training test es: 0.683712\n",
      "El score de LDA en test set es: 0.452381\n",
      "El score de QDA en training test es: 0.988636\n",
      "El score de QDA en test set es: 0.415584\n",
      "El score de k-NN en training test es: 0.931818\n",
      "El score de k-NN en test set es: 0.491342\n"
     ]
    }
   ],
   "source": [
    "from sklearn.lda import LDA\n",
    "from sklearn.qda import QDA\n",
    "from sklearn.neighbors import KNeighborsClassifier\n",
    "Xtest = test_df.ix[:,'x.1':'x.10'].values\n",
    "ytest = test_df.ix[:,'y'].values\n",
    "X_std_test = StandardScaler().fit_transform(Xtest)\n",
    "lda_model = LDA()\n",
    "lda_model.fit(X_std,y)\n",
    "print \"El score de LDA en training test es: %f\"% lda_model.score(X_std,y)\n",
    "print \"El score de LDA en test set es: %f\"% lda_model.score(X_std_test,ytest)\n",
    "\n",
    "qda_model = QDA()\n",
    "qda_model.fit(X_std,y)\n",
    "print \"El score de QDA en training test es: %f\"% qda_model.score(X_std,y)\n",
    "print \"El score de QDA en test set es: %f\"% qda_model.score(X_std_test,ytest)\n",
    "\n",
    "knn_model = KNeighborsClassifier(n_neighbors=10)\n",
    "knn_model.fit(X_std,y)\n",
    "print \"El score de k-NN en training test es: %f\"% knn_model.score(X_std,y)\n",
    "print \"El score de k-NN en test set es: %f\"% knn_model.score(X_std_test,ytest)"
   ]
  },
  {
   "cell_type": "code",
   "execution_count": 11,
   "metadata": {
    "collapsed": false
   },
   "outputs": [],
   "source": [
    "import matplotlib.pyplot as plt\n",
    "a = [lda_model.score(X_std,y),lda_model.score(X_std_test,ytest), qda_model.score(X_std,y),qda_model.score(X_std_test,ytest)]\n",
    "a += [knn_model.score(X_std,y), knn_model.score(X_std_test,ytest)]\n",
    "\n",
    "\n",
    "fig, ax = plt.subplots()\n",
    "\n",
    "barlist= ax.bar(range(6), a, width  = 0.5, align = \"center\")\n",
    "barlist[1].set_color('r')\n",
    "barlist[3].set_color('r')\n",
    "barlist[5].set_color('r')\n",
    "\n",
    "ax.set_ylabel('Score')\n",
    "ax.set_title('Scores para cada clasificador')\n",
    "ax.set_xticks([0.5,2.5,4.5])\n",
    "ax.set_xticklabels(('LDA', 'QDA', 'K-NN'))\n",
    "ax.legend( barlist,[\"Training set\",\"Test set\"], loc = 2)\n",
    "plt.show()"
   ]
  },
  {
   "cell_type": "code",
   "execution_count": 15,
   "metadata": {
    "collapsed": false
   },
   "outputs": [],
   "source": [
    "scores_train = []\n",
    "scores_test = []\n",
    "n_max = X_std.shape[0]\n",
    "for i in range(1,n_max):\n",
    "    knn_model = KNeighborsClassifier(n_neighbors = i)\n",
    "    knn_model.fit(X_std,y)\n",
    "    \n",
    "    scores_train += [knn_model.score(X_std,y)]\n",
    "    scores_test += [knn_model.score(X_std_test,ytest)]\n",
    "    \n",
    "import matplotlib.pyplot as plt\n",
    "plt.plot(range(1,n_max),scores_train, label = \"Score Training set\")\n",
    "plt.plot(range(1,n_max),scores_test, label = \"Score Test set\")\n",
    "\n",
    "#plt.legend()\n",
    "plt.xlabel('k')\n",
    "plt.ylabel('score')\n",
    "plt.title('Desempenno de k-NN sobre sets')\n",
    "plt.axis('tight')\n",
    "plt.legend()\n",
    "plt.show()"
   ]
  },
  {
   "cell_type": "code",
   "execution_count": 19,
   "metadata": {
    "collapsed": false
   },
   "outputs": [],
   "source": [
    "scores_train = []\n",
    "scores_test = []\n",
    "n_max = 50\n",
    "for i in range(1,n_max):\n",
    "    knn_model = KNeighborsClassifier(n_neighbors = i)\n",
    "    knn_model.fit(X_std,y)\n",
    "    \n",
    "    scores_train += [knn_model.score(X_std,y)]\n",
    "    scores_test += [knn_model.score(X_std_test,ytest)]\n",
    "    \n",
    "import matplotlib.pyplot as plt\n",
    "plt.plot(range(1,n_max),scores_train, label = \"Score Training set\")\n",
    "plt.plot(range(1,n_max),scores_test, label = \"Score Test set\")\n",
    "\n",
    "#plt.legend()\n",
    "plt.xlabel('k')\n",
    "plt.ylabel('score')\n",
    "plt.title('Desempenno de k-NN sobre sets')\n",
    "plt.axis('tight')\n",
    "plt.legend()\n",
    "plt.show()"
   ]
  },
  {
   "cell_type": "code",
   "execution_count": 21,
   "metadata": {
    "collapsed": false
   },
   "outputs": [
    {
     "name": "stdout",
     "output_type": "stream",
     "text": [
      "para 1.000000 componentes\n",
      "El score de LDA en training test es: 0.181818\n",
      "El score de LDA en test set es: 0.151515\n",
      "El score de QDA en training test es: 0.238636\n",
      "El score de QDA en test set es: 0.233766\n",
      "El score de k-NN en training test es: 0.405303\n",
      "El score de k-NN en test set es: 0.125541\n",
      "para 2.000000 componentes\n",
      "El score de LDA en training test es: 0.287879\n",
      "El score de LDA en test set es: 0.149351\n",
      "El score de QDA en training test es: 0.325758\n",
      "El score de QDA en test set es: 0.209957\n",
      "El score de k-NN en training test es: 0.604167\n",
      "El score de k-NN en test set es: 0.160173\n",
      "para 3.000000 componentes\n",
      "El score de LDA en training test es: 0.371212\n",
      "El score de LDA en test set es: 0.093074\n",
      "El score de QDA en training test es: 0.566288\n",
      "El score de QDA en test set es: 0.136364\n",
      "El score de k-NN en training test es: 0.789773\n",
      "El score de k-NN en test set es: 0.177489\n",
      "para 4.000000 componentes\n",
      "El score de LDA en training test es: 0.477273\n",
      "El score de LDA en test set es: 0.054113\n",
      "El score de QDA en training test es: 0.755682\n",
      "El score de QDA en test set es: 0.067100\n",
      "El score de k-NN en training test es: 0.861742\n",
      "El score de k-NN en test set es: 0.082251\n",
      "para 5.000000 componentes\n",
      "El score de LDA en training test es: 0.501894\n",
      "El score de LDA en test set es: 0.036797\n",
      "El score de QDA en training test es: 0.814394\n",
      "El score de QDA en test set es: 0.071429\n",
      "El score de k-NN en training test es: 0.897727\n",
      "El score de k-NN en test set es: 0.075758\n",
      "para 6.000000 componentes\n",
      "El score de LDA en training test es: 0.526515\n",
      "El score de LDA en test set es: 0.038961\n",
      "El score de QDA en training test es: 0.865530\n",
      "El score de QDA en test set es: 0.082251\n",
      "El score de k-NN en training test es: 0.895833\n",
      "El score de k-NN en test set es: 0.099567\n",
      "para 7.000000 componentes\n",
      "El score de LDA en training test es: 0.609848\n",
      "El score de LDA en test set es: 0.060606\n",
      "El score de QDA en training test es: 0.920455\n",
      "El score de QDA en test set es: 0.090909\n",
      "El score de k-NN en training test es: 0.920455\n",
      "El score de k-NN en test set es: 0.093074\n",
      "para 8.000000 componentes\n",
      "El score de LDA en training test es: 0.657197\n",
      "El score de LDA en test set es: 0.058442\n",
      "El score de QDA en training test es: 0.939394\n",
      "El score de QDA en test set es: 0.099567\n",
      "El score de k-NN en training test es: 0.929924\n",
      "El score de k-NN en test set es: 0.086580\n",
      "para 9.000000 componentes\n",
      "El score de LDA en training test es: 0.687500\n",
      "El score de LDA en test set es: 0.051948\n",
      "El score de QDA en training test es: 0.977273\n",
      "El score de QDA en test set es: 0.103896\n",
      "El score de k-NN en training test es: 0.935606\n",
      "El score de k-NN en test set es: 0.082251\n"
     ]
    }
   ],
   "source": [
    "from sklearn.lda import LDA\n",
    "from sklearn.qda import QDA\n",
    "from sklearn.neighbors import KNeighborsClassifier\n",
    "from sklearn.decomposition import PCA\n",
    "from matplotlib import pyplot as plt\n",
    "import seaborn as sns\n",
    "import numpy as np\n",
    "\n",
    "for n in range(1,10):\n",
    "    print \"para %f componentes\"%n\n",
    "    sklearn_pca = PCA(n_components=n)\n",
    "    Xred_pca = sklearn_pca.fit_transform(X_std) #dataset reducido a n dimensiones\n",
    "    Xred_pca_test = sklearn_pca.fit_transform(X_std_test) \n",
    "    \n",
    "    lda_model = LDA()\n",
    "    lda_model.fit(Xred_pca,y)\n",
    "    print \"El score de LDA en training test es: %f\"% lda_model.score(Xred_pca,y)\n",
    "    print \"El score de LDA en test set es: %f\"% lda_model.score(Xred_pca_test,ytest)\n",
    "\n",
    "    qda_model = QDA()\n",
    "    qda_model.fit(Xred_pca,y)\n",
    "    print \"El score de QDA en training test es: %f\"% qda_model.score(Xred_pca,y)\n",
    "    print \"El score de QDA en test set es: %f\"% qda_model.score(Xred_pca_test,ytest)\n",
    "\n",
    "    knn_model = KNeighborsClassifier(n_neighbors=10)\n",
    "    knn_model.fit(Xred_pca,y)\n",
    "    print \"El score de k-NN en training test es: %f\"% knn_model.score(Xred_pca,y)\n",
    "    print \"El score de k-NN en test set es: %f\"% knn_model.score(Xred_pca_test,ytest)\n",
    "    "
   ]
  },
  {
   "cell_type": "code",
   "execution_count": null,
   "metadata": {
    "collapsed": true
   },
   "outputs": [],
   "source": []
  }
 ],
 "metadata": {
  "kernelspec": {
   "display_name": "Python 2",
   "language": "python",
   "name": "python2"
  },
  "language_info": {
   "codemirror_mode": {
    "name": "ipython",
    "version": 2
   },
   "file_extension": ".py",
   "mimetype": "text/x-python",
   "name": "python",
   "nbconvert_exporter": "python",
   "pygments_lexer": "ipython2",
   "version": "2.7.9"
  }
 },
 "nbformat": 4,
 "nbformat_minor": 1
}
